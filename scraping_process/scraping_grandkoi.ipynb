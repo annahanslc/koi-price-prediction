{
 "cells": [
  {
   "cell_type": "markdown",
   "metadata": {},
   "source": [
    "# Obtaining Data from Grandkoi"
   ]
  },
  {
   "cell_type": "code",
   "execution_count": 1,
   "metadata": {},
   "outputs": [],
   "source": [
    "# Imports\n",
    "\n",
    "from bs4 import BeautifulSoup\n",
    "import requests\n",
    "import pandas as pd\n",
    "from urllib.parse import urljoin\n",
    "import os\n",
    "import uuid\n",
    "import time\n"
   ]
  },
  {
   "cell_type": "code",
   "execution_count": 2,
   "metadata": {},
   "outputs": [],
   "source": [
    "# Define the website\n",
    "\n",
    "BASE_URL = 'https://www.grandkoi.com/shop/'\n",
    "START_URL = 'https://www.grandkoi.com/shop/page/{}'\n",
    "website = requests.get(BASE_URL)\n",
    "\n",
    "# Define the output directory\n",
    "\n",
    "OUTPUT_DIR = 'grandkoi_data'\n",
    "os.makedirs(OUTPUT_DIR, exist_ok=True)"
   ]
  },
  {
   "cell_type": "code",
   "execution_count": 3,
   "metadata": {},
   "outputs": [
    {
     "data": {
      "text/plain": [
       "200"
      ]
     },
     "execution_count": 3,
     "metadata": {},
     "output_type": "execute_result"
    }
   ],
   "source": [
    "# Check status\n",
    "\n",
    "website.status_code"
   ]
  },
  {
   "cell_type": "code",
   "execution_count": 4,
   "metadata": {},
   "outputs": [],
   "source": [
    "# Get the object\n",
    "\n",
    "soup = BeautifulSoup(website.text, \"html.parser\")"
   ]
  },
  {
   "cell_type": "code",
   "execution_count": 5,
   "metadata": {},
   "outputs": [],
   "source": [
    "product = soup.select(\"li.entry.product\")"
   ]
  },
  {
   "cell_type": "code",
   "execution_count": 6,
   "metadata": {},
   "outputs": [],
   "source": [
    "data_collected = {}\n",
    "\n",
    "def scrape_page(page_num):\n",
    "    url  = START_URL.format(page_num)\n",
    "    resp = requests.get(url)\n",
    "    if resp.status_code != 200:\n",
    "        return False    # no such page\n",
    "    soup = BeautifulSoup(resp.text, \"html.parser\")\n",
    "    products = soup.select(\"li.entry.product\")\n",
    "    if not products:\n",
    "        return False    # no products → end of pagination\n",
    "    for prod in products:\n",
    "        # 1. product page link\n",
    "        a      = prod.select_one(\"a.woocommerce-LoopProduct-link\")\n",
    "        link   = a[\"href\"]\n",
    "\n",
    "        # 2. image URL (lazy or normal)\n",
    "        img_tag = prod.select_one(\"img\")\n",
    "        raw_src = img_tag.get(\"data-lazy-src\") or img_tag.get(\"src\")\n",
    "        img_url = urljoin(BASE_URL, raw_src)\n",
    "\n",
    "        # 3. title\n",
    "        title = prod.select_one(\"h2.woocommerce-loop-product__title\") \\\n",
    "                    .get_text(strip=True)\n",
    "\n",
    "        # 4. price\n",
    "        price_tag = prod.select_one(\"span.price\")\n",
    "        price     = price_tag.get_text(strip=True) if price_tag else \"N/A\"\n",
    "\n",
    "        # 5. SKU\n",
    "        sku_text = prod.select_one(\"div.sku-no\").get_text(strip=True)\n",
    "        sku      = sku_text.replace(\"SKU:\", \"\").strip()\n",
    "\n",
    "        # 6. details\n",
    "        detail_html = prod.select_one(\"div.excerpt\").decode_contents()\n",
    "        details     = [line.strip() for line in detail_html.split(\"<br/>\")]\n",
    "\n",
    "\n",
    "        # 7. save the image\n",
    "        #    a) pick extension (fallback to .jpg)\n",
    "        ext = os.path.splitext(raw_src)[1] or \".jpg\"\n",
    "\n",
    "        #    b) sanitize title for filename\n",
    "        safe_title = \"\".join(c if c.isalnum() or c in \"-_ \" else \"_\" for c in title)\n",
    "        # generate a short 6‑hex‑digit ID\n",
    "        unit_id = uuid.uuid4().hex[:6]  # e.g. '9f1c2a'\n",
    "        filename   = f\"{unit_id}_{safe_title}{ext}\"\n",
    "        filepath   = os.path.join(OUTPUT_DIR, filename)\n",
    "\n",
    "        #    c) download in streaming mode\n",
    "        resp = requests.get(img_url, stream=True)\n",
    "        resp.raise_for_status()\n",
    "        with open(filepath, \"wb\") as f:\n",
    "            for chunk in resp.iter_content(chunk_size=8192):\n",
    "                if not chunk:\n",
    "                    continue\n",
    "                f.write(chunk)\n",
    "\n",
    "        # 8. output or store your data\n",
    "        data_collected[unit_id] = {\n",
    "            \"link\":     link,\n",
    "            \"title\":    title,\n",
    "            \"price\":    price,\n",
    "            \"sku\":      sku,\n",
    "            \"details\":  details,\n",
    "            \"image\":    filepath,      # path where you saved it\n",
    "            \"image_url\": img_url,      # original URL\n",
    "        }\n",
    "        pass\n",
    "    return True"
   ]
  },
  {
   "cell_type": "code",
   "execution_count": 8,
   "metadata": {},
   "outputs": [],
   "source": [
    "# page = 1\n",
    "# while True:\n",
    "#     print(f\"Scraping page {page}…\")\n",
    "#     success = scrape_page(page)\n",
    "#     if not success:\n",
    "#         print(\"No more pages. Done.\")\n",
    "#         break\n",
    "#     page += 1\n",
    "#     time.sleep(1)  # be polite"
   ]
  },
  {
   "cell_type": "code",
   "execution_count": 9,
   "metadata": {},
   "outputs": [],
   "source": [
    "df = pd.DataFrame(data_collected)"
   ]
  },
  {
   "cell_type": "code",
   "execution_count": 10,
   "metadata": {},
   "outputs": [],
   "source": [
    "df = df.T"
   ]
  },
  {
   "cell_type": "code",
   "execution_count": 11,
   "metadata": {},
   "outputs": [
    {
     "data": {
      "text/html": [
       "<div>\n",
       "<style scoped>\n",
       "    .dataframe tbody tr th:only-of-type {\n",
       "        vertical-align: middle;\n",
       "    }\n",
       "\n",
       "    .dataframe tbody tr th {\n",
       "        vertical-align: top;\n",
       "    }\n",
       "\n",
       "    .dataframe thead th {\n",
       "        text-align: right;\n",
       "    }\n",
       "</style>\n",
       "<table border=\"1\" class=\"dataframe\">\n",
       "  <thead>\n",
       "    <tr style=\"text-align: right;\">\n",
       "      <th></th>\n",
       "      <th>link</th>\n",
       "      <th>title</th>\n",
       "      <th>price</th>\n",
       "      <th>sku</th>\n",
       "      <th>details</th>\n",
       "      <th>image</th>\n",
       "      <th>image_url</th>\n",
       "    </tr>\n",
       "  </thead>\n",
       "  <tbody>\n",
       "    <tr>\n",
       "      <th>d7c302</th>\n",
       "      <td>https://www.grandkoi.com/product/high-quality-...</td>\n",
       "      <td>High Quality showa- SOLD</td>\n",
       "      <td>N/A</td>\n",
       "      <td>8098</td>\n",
       "      <td>[Breeder: Sakai&lt;br&gt;Inches: 30&lt;/br&gt;]</td>\n",
       "      <td>grandkoi_data/d7c302_High Quality showa- SOLD....</td>\n",
       "      <td>https://www.grandkoi.com/wp-content/uploads/20...</td>\n",
       "    </tr>\n",
       "    <tr>\n",
       "      <th>12a49e</th>\n",
       "      <td>https://www.grandkoi.com/product/gin-rin-showa...</td>\n",
       "      <td>High Quality Gin Rin Showa- SOLD</td>\n",
       "      <td>$34,999.00</td>\n",
       "      <td>8097</td>\n",
       "      <td>[Breeder: Sakai&lt;br&gt;Inches: 32&lt;/br&gt;]</td>\n",
       "      <td>grandkoi_data/12a49e_High Quality Gin Rin Show...</td>\n",
       "      <td>https://www.grandkoi.com/wp-content/uploads/20...</td>\n",
       "    </tr>\n",
       "    <tr>\n",
       "      <th>9ac3a8</th>\n",
       "      <td>https://www.grandkoi.com/product/high-quality-...</td>\n",
       "      <td>High Quality Gin Rin showa- SOLD</td>\n",
       "      <td>$34,999.00</td>\n",
       "      <td>8096</td>\n",
       "      <td>[Breeder: Sakai&lt;br&gt;Inches: 32&lt;/br&gt;]</td>\n",
       "      <td>grandkoi_data/9ac3a8_High Quality Gin Rin show...</td>\n",
       "      <td>https://www.grandkoi.com/wp-content/uploads/20...</td>\n",
       "    </tr>\n",
       "    <tr>\n",
       "      <th>adf84d</th>\n",
       "      <td>https://www.grandkoi.com/product/karashigoi-8092/</td>\n",
       "      <td>Karashigoi</td>\n",
       "      <td>$32,999.00</td>\n",
       "      <td>8092</td>\n",
       "      <td>[Breeder: Dainichi, Inches: 36]</td>\n",
       "      <td>grandkoi_data/adf84d_Karashigoi.jpeg</td>\n",
       "      <td>https://www.grandkoi.com/wp-content/uploads/20...</td>\n",
       "    </tr>\n",
       "    <tr>\n",
       "      <th>a0b886</th>\n",
       "      <td>https://www.grandkoi.com/product/doitsu-kogane...</td>\n",
       "      <td>Doitsu Kogane Ochiba- SOLD</td>\n",
       "      <td>$24,999.00</td>\n",
       "      <td>8091</td>\n",
       "      <td>[Breeder: Marusei, Inches: 31]</td>\n",
       "      <td>grandkoi_data/a0b886_Doitsu Kogane Ochiba- SOL...</td>\n",
       "      <td>https://www.grandkoi.com/wp-content/uploads/20...</td>\n",
       "    </tr>\n",
       "    <tr>\n",
       "      <th>...</th>\n",
       "      <td>...</td>\n",
       "      <td>...</td>\n",
       "      <td>...</td>\n",
       "      <td>...</td>\n",
       "      <td>...</td>\n",
       "      <td>...</td>\n",
       "      <td>...</td>\n",
       "    </tr>\n",
       "    <tr>\n",
       "      <th>6d337b</th>\n",
       "      <td>https://www.grandkoi.com/product/gin-rin-goshi...</td>\n",
       "      <td>Gin Rin Goshiki- High Quality</td>\n",
       "      <td>$4,449.00</td>\n",
       "      <td>6049</td>\n",
       "      <td>[Breeder: Hiroi, Inches: 22.4]</td>\n",
       "      <td>grandkoi_data/6d337b_Gin Rin Goshiki- High Qua...</td>\n",
       "      <td>https://www.grandkoi.com/wp-content/uploads/20...</td>\n",
       "    </tr>\n",
       "    <tr>\n",
       "      <th>7f1f60</th>\n",
       "      <td>https://www.grandkoi.com/product/goshiki-47/</td>\n",
       "      <td>Goshiki High Quality</td>\n",
       "      <td>$4,500.00</td>\n",
       "      <td>6038</td>\n",
       "      <td>[Breeder: Hiroi, Inches: 25]</td>\n",
       "      <td>grandkoi_data/7f1f60_Goshiki High Quality.png</td>\n",
       "      <td>https://www.grandkoi.com/wp-content/uploads/20...</td>\n",
       "    </tr>\n",
       "    <tr>\n",
       "      <th>9d9f8e</th>\n",
       "      <td>https://www.grandkoi.com/product/gin-rin-sanke-8/</td>\n",
       "      <td>Gin Rin Sanke High Quality</td>\n",
       "      <td>$4,500.00</td>\n",
       "      <td>6029</td>\n",
       "      <td>[Breeder: Hiroi, Inches: 23]</td>\n",
       "      <td>grandkoi_data/9d9f8e_Gin Rin Sanke High Qualit...</td>\n",
       "      <td>https://www.grandkoi.com/wp-content/uploads/20...</td>\n",
       "    </tr>\n",
       "    <tr>\n",
       "      <th>c962ee</th>\n",
       "      <td>https://www.grandkoi.com/product/gin-rin-sanke-7/</td>\n",
       "      <td>Gin Rin Sanke High Quality</td>\n",
       "      <td>$4,500.00</td>\n",
       "      <td>6028</td>\n",
       "      <td>[Breeder: Hiroi, Inches: 26]</td>\n",
       "      <td>grandkoi_data/c962ee_Gin Rin Sanke High Qualit...</td>\n",
       "      <td>https://www.grandkoi.com/wp-content/uploads/20...</td>\n",
       "    </tr>\n",
       "    <tr>\n",
       "      <th>1f8f92</th>\n",
       "      <td>https://www.grandkoi.com/product/showa-271/</td>\n",
       "      <td>Showa High Quality</td>\n",
       "      <td>$3,500.00</td>\n",
       "      <td>6013</td>\n",
       "      <td>[Breeder: Hiroi, Inches: 23]</td>\n",
       "      <td>grandkoi_data/1f8f92_Showa High Quality.png</td>\n",
       "      <td>https://www.grandkoi.com/wp-content/uploads/20...</td>\n",
       "    </tr>\n",
       "  </tbody>\n",
       "</table>\n",
       "<p>367 rows × 7 columns</p>\n",
       "</div>"
      ],
      "text/plain": [
       "                                                     link  \\\n",
       "d7c302  https://www.grandkoi.com/product/high-quality-...   \n",
       "12a49e  https://www.grandkoi.com/product/gin-rin-showa...   \n",
       "9ac3a8  https://www.grandkoi.com/product/high-quality-...   \n",
       "adf84d  https://www.grandkoi.com/product/karashigoi-8092/   \n",
       "a0b886  https://www.grandkoi.com/product/doitsu-kogane...   \n",
       "...                                                   ...   \n",
       "6d337b  https://www.grandkoi.com/product/gin-rin-goshi...   \n",
       "7f1f60       https://www.grandkoi.com/product/goshiki-47/   \n",
       "9d9f8e  https://www.grandkoi.com/product/gin-rin-sanke-8/   \n",
       "c962ee  https://www.grandkoi.com/product/gin-rin-sanke-7/   \n",
       "1f8f92        https://www.grandkoi.com/product/showa-271/   \n",
       "\n",
       "                                   title       price   sku  \\\n",
       "d7c302          High Quality showa- SOLD         N/A  8098   \n",
       "12a49e  High Quality Gin Rin Showa- SOLD  $34,999.00  8097   \n",
       "9ac3a8  High Quality Gin Rin showa- SOLD  $34,999.00  8096   \n",
       "adf84d                        Karashigoi  $32,999.00  8092   \n",
       "a0b886        Doitsu Kogane Ochiba- SOLD  $24,999.00  8091   \n",
       "...                                  ...         ...   ...   \n",
       "6d337b     Gin Rin Goshiki- High Quality   $4,449.00  6049   \n",
       "7f1f60              Goshiki High Quality   $4,500.00  6038   \n",
       "9d9f8e        Gin Rin Sanke High Quality   $4,500.00  6029   \n",
       "c962ee        Gin Rin Sanke High Quality   $4,500.00  6028   \n",
       "1f8f92                Showa High Quality   $3,500.00  6013   \n",
       "\n",
       "                                    details  \\\n",
       "d7c302  [Breeder: Sakai<br>Inches: 30</br>]   \n",
       "12a49e  [Breeder: Sakai<br>Inches: 32</br>]   \n",
       "9ac3a8  [Breeder: Sakai<br>Inches: 32</br>]   \n",
       "adf84d      [Breeder: Dainichi, Inches: 36]   \n",
       "a0b886       [Breeder: Marusei, Inches: 31]   \n",
       "...                                     ...   \n",
       "6d337b       [Breeder: Hiroi, Inches: 22.4]   \n",
       "7f1f60         [Breeder: Hiroi, Inches: 25]   \n",
       "9d9f8e         [Breeder: Hiroi, Inches: 23]   \n",
       "c962ee         [Breeder: Hiroi, Inches: 26]   \n",
       "1f8f92         [Breeder: Hiroi, Inches: 23]   \n",
       "\n",
       "                                                    image  \\\n",
       "d7c302  grandkoi_data/d7c302_High Quality showa- SOLD....   \n",
       "12a49e  grandkoi_data/12a49e_High Quality Gin Rin Show...   \n",
       "9ac3a8  grandkoi_data/9ac3a8_High Quality Gin Rin show...   \n",
       "adf84d               grandkoi_data/adf84d_Karashigoi.jpeg   \n",
       "a0b886  grandkoi_data/a0b886_Doitsu Kogane Ochiba- SOL...   \n",
       "...                                                   ...   \n",
       "6d337b  grandkoi_data/6d337b_Gin Rin Goshiki- High Qua...   \n",
       "7f1f60      grandkoi_data/7f1f60_Goshiki High Quality.png   \n",
       "9d9f8e  grandkoi_data/9d9f8e_Gin Rin Sanke High Qualit...   \n",
       "c962ee  grandkoi_data/c962ee_Gin Rin Sanke High Qualit...   \n",
       "1f8f92        grandkoi_data/1f8f92_Showa High Quality.png   \n",
       "\n",
       "                                                image_url  \n",
       "d7c302  https://www.grandkoi.com/wp-content/uploads/20...  \n",
       "12a49e  https://www.grandkoi.com/wp-content/uploads/20...  \n",
       "9ac3a8  https://www.grandkoi.com/wp-content/uploads/20...  \n",
       "adf84d  https://www.grandkoi.com/wp-content/uploads/20...  \n",
       "a0b886  https://www.grandkoi.com/wp-content/uploads/20...  \n",
       "...                                                   ...  \n",
       "6d337b  https://www.grandkoi.com/wp-content/uploads/20...  \n",
       "7f1f60  https://www.grandkoi.com/wp-content/uploads/20...  \n",
       "9d9f8e  https://www.grandkoi.com/wp-content/uploads/20...  \n",
       "c962ee  https://www.grandkoi.com/wp-content/uploads/20...  \n",
       "1f8f92  https://www.grandkoi.com/wp-content/uploads/20...  \n",
       "\n",
       "[367 rows x 7 columns]"
      ]
     },
     "execution_count": 11,
     "metadata": {},
     "output_type": "execute_result"
    }
   ],
   "source": [
    "df"
   ]
  },
  {
   "cell_type": "code",
   "execution_count": 12,
   "metadata": {},
   "outputs": [
    {
     "data": {
      "text/plain": [
       "2"
      ]
     },
     "execution_count": 12,
     "metadata": {},
     "output_type": "execute_result"
    }
   ],
   "source": [
    "df.duplicated(subset='image_url').sum()"
   ]
  },
  {
   "cell_type": "code",
   "execution_count": 14,
   "metadata": {},
   "outputs": [
    {
     "name": "stdout",
     "output_type": "stream",
     "text": [
      "<class 'pandas.core.frame.DataFrame'>\n",
      "Index: 367 entries, d7c302 to 1f8f92\n",
      "Data columns (total 7 columns):\n",
      " #   Column     Non-Null Count  Dtype \n",
      "---  ------     --------------  ----- \n",
      " 0   link       367 non-null    object\n",
      " 1   title      367 non-null    object\n",
      " 2   price      367 non-null    object\n",
      " 3   sku        367 non-null    object\n",
      " 4   details    367 non-null    object\n",
      " 5   image      367 non-null    object\n",
      " 6   image_url  367 non-null    object\n",
      "dtypes: object(7)\n",
      "memory usage: 22.9+ KB\n"
     ]
    }
   ],
   "source": [
    "df.info()"
   ]
  },
  {
   "cell_type": "code",
   "execution_count": 15,
   "metadata": {},
   "outputs": [
    {
     "data": {
      "text/plain": [
       "d7c302    [Breeder: Sakai<br>Inches: 30</br>]\n",
       "12a49e    [Breeder: Sakai<br>Inches: 32</br>]\n",
       "9ac3a8    [Breeder: Sakai<br>Inches: 32</br>]\n",
       "adf84d        [Breeder: Dainichi, Inches: 36]\n",
       "a0b886         [Breeder: Marusei, Inches: 31]\n",
       "                         ...                 \n",
       "6d337b         [Breeder: Hiroi, Inches: 22.4]\n",
       "7f1f60           [Breeder: Hiroi, Inches: 25]\n",
       "9d9f8e           [Breeder: Hiroi, Inches: 23]\n",
       "c962ee           [Breeder: Hiroi, Inches: 26]\n",
       "1f8f92           [Breeder: Hiroi, Inches: 23]\n",
       "Name: details, Length: 367, dtype: object"
      ]
     },
     "execution_count": 15,
     "metadata": {},
     "output_type": "execute_result"
    }
   ],
   "source": [
    "df['details']"
   ]
  },
  {
   "cell_type": "code",
   "execution_count": 16,
   "metadata": {},
   "outputs": [],
   "source": [
    "df.to_csv('grandkoi_data/collected_data.csv', index=True)"
   ]
  },
  {
   "cell_type": "code",
   "execution_count": null,
   "metadata": {},
   "outputs": [],
   "source": []
  }
 ],
 "metadata": {
  "kernelspec": {
   "display_name": "Python 3",
   "language": "python",
   "name": "python3"
  },
  "language_info": {
   "codemirror_mode": {
    "name": "ipython",
    "version": 3
   },
   "file_extension": ".py",
   "mimetype": "text/x-python",
   "name": "python",
   "nbconvert_exporter": "python",
   "pygments_lexer": "ipython3",
   "version": "3.12.9"
  }
 },
 "nbformat": 4,
 "nbformat_minor": 2
}
