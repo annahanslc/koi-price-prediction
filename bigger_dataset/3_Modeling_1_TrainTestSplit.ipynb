{
 "cells": [
  {
   "cell_type": "markdown",
   "metadata": {},
   "source": [
    "# Modeling 1 - Train-Test-Split"
   ]
  },
  {
   "cell_type": "code",
   "execution_count": 38,
   "metadata": {},
   "outputs": [],
   "source": [
    "# imports\n",
    "\n",
    "import pandas as pd\n",
    "import numpy as np\n",
    "import matplotlib.pyplot as plt\n",
    "import matplotlib.image as mpimg\n",
    "import json\n",
    "import os\n",
    "\n",
    "from sklearn.model_selection import train_test_split\n",
    "from sklearn.preprocessing import LabelEncoder\n",
    "from PIL import Image\n",
    "\n",
    "import torch\n",
    "import torch.nn as nn\n",
    "import torch.optim as optim\n",
    "from torch.utils.data import TensorDataset, DataLoader, Dataset\n",
    "from torchvision import transforms"
   ]
  },
  {
   "cell_type": "code",
   "execution_count": 11,
   "metadata": {},
   "outputs": [
    {
     "data": {
      "text/plain": [
       "device(type='mps')"
      ]
     },
     "execution_count": 11,
     "metadata": {},
     "output_type": "execute_result"
    }
   ],
   "source": [
    "# check if gpu is available, set device\n",
    "\n",
    "device = torch.device('mps' if torch.backends.mps.is_available() else 'cpu')\n",
    "device"
   ]
  },
  {
   "cell_type": "code",
   "execution_count": 7,
   "metadata": {},
   "outputs": [
    {
     "data": {
      "text/html": [
       "<div>\n",
       "<style scoped>\n",
       "    .dataframe tbody tr th:only-of-type {\n",
       "        vertical-align: middle;\n",
       "    }\n",
       "\n",
       "    .dataframe tbody tr th {\n",
       "        vertical-align: top;\n",
       "    }\n",
       "\n",
       "    .dataframe thead th {\n",
       "        text-align: right;\n",
       "    }\n",
       "</style>\n",
       "<table border=\"1\" class=\"dataframe\">\n",
       "  <thead>\n",
       "    <tr style=\"text-align: right;\">\n",
       "      <th></th>\n",
       "      <th>image_path</th>\n",
       "      <th>label</th>\n",
       "    </tr>\n",
       "  </thead>\n",
       "  <tbody>\n",
       "    <tr>\n",
       "      <th>0</th>\n",
       "      <td>champkoi_data/18f755_A_32_Female_Kohaku_[Nogam...</td>\n",
       "      <td>kohaku</td>\n",
       "    </tr>\n",
       "    <tr>\n",
       "      <th>1</th>\n",
       "      <td>gckoi_data/d9a7dbc_HIGH_QUALITY_SAKAI_BLOODLIN...</td>\n",
       "      <td>kohaku</td>\n",
       "    </tr>\n",
       "    <tr>\n",
       "      <th>2</th>\n",
       "      <td>gckoi_data/88ec869_ISA_KOHAKU_GUARANTEE_FEMALE...</td>\n",
       "      <td>kohaku</td>\n",
       "    </tr>\n",
       "    <tr>\n",
       "      <th>3</th>\n",
       "      <td>gckoi_data/3a7df4e_DAINICHI_3SAI_FEMALE_KOHAKU...</td>\n",
       "      <td>kohaku</td>\n",
       "    </tr>\n",
       "    <tr>\n",
       "      <th>4</th>\n",
       "      <td>gckoi_data/cb26670_DAINICHI_BLOODLINE_KOHAKU_2...</td>\n",
       "      <td>kohaku</td>\n",
       "    </tr>\n",
       "  </tbody>\n",
       "</table>\n",
       "</div>"
      ],
      "text/plain": [
       "                                          image_path   label\n",
       "0  champkoi_data/18f755_A_32_Female_Kohaku_[Nogam...  kohaku\n",
       "1  gckoi_data/d9a7dbc_HIGH_QUALITY_SAKAI_BLOODLIN...  kohaku\n",
       "2  gckoi_data/88ec869_ISA_KOHAKU_GUARANTEE_FEMALE...  kohaku\n",
       "3  gckoi_data/3a7df4e_DAINICHI_3SAI_FEMALE_KOHAKU...  kohaku\n",
       "4  gckoi_data/cb26670_DAINICHI_BLOODLINE_KOHAKU_2...  kohaku"
      ]
     },
     "execution_count": 7,
     "metadata": {},
     "output_type": "execute_result"
    }
   ],
   "source": [
    "# import data\n",
    "\n",
    "with open('data/df_kohaku_sanke_showa.json', 'r') as f:\n",
    "  data = json.load(f)\n",
    "\n",
    "df = pd.DataFrame(data)\n",
    "\n",
    "df.head()"
   ]
  },
  {
   "cell_type": "code",
   "execution_count": 39,
   "metadata": {},
   "outputs": [
    {
     "data": {
      "text/plain": [
       "label_encoded\n",
       "0    264\n",
       "1    237\n",
       "2    185\n",
       "Name: count, dtype: int64"
      ]
     },
     "execution_count": 39,
     "metadata": {},
     "output_type": "execute_result"
    }
   ],
   "source": [
    "# use the labelencoder to encode the classes\n",
    "\n",
    "le = LabelEncoder()\n",
    "df['label_encoded'] = le.fit_transform(df['label'])\n",
    "df['label_encoded'].value_counts()"
   ]
  },
  {
   "cell_type": "code",
   "execution_count": 47,
   "metadata": {},
   "outputs": [
    {
     "data": {
      "text/plain": [
       "{0: 'kohaku', 1: 'sanke', 2: 'showa'}"
      ]
     },
     "execution_count": 47,
     "metadata": {},
     "output_type": "execute_result"
    }
   ],
   "source": [
    "# get the mapping\n",
    "\n",
    "label_map = {}\n",
    "for i in range(len(le.classes_)):\n",
    "  label_map[i] = le.inverse_transform([i])[0]\n",
    "\n",
    "label_map"
   ]
  },
  {
   "cell_type": "code",
   "execution_count": 48,
   "metadata": {},
   "outputs": [
    {
     "name": "stdout",
     "output_type": "stream",
     "text": [
      "<class 'pandas.core.frame.DataFrame'>\n",
      "RangeIndex: 686 entries, 0 to 685\n",
      "Data columns (total 3 columns):\n",
      " #   Column         Non-Null Count  Dtype \n",
      "---  ------         --------------  ----- \n",
      " 0   image_path     686 non-null    object\n",
      " 1   label          686 non-null    object\n",
      " 2   label_encoded  686 non-null    int64 \n",
      "dtypes: int64(1), object(2)\n",
      "memory usage: 16.2+ KB\n"
     ]
    }
   ],
   "source": [
    "# double check the data\n",
    "\n",
    "df.info()"
   ]
  },
  {
   "cell_type": "code",
   "execution_count": 52,
   "metadata": {},
   "outputs": [
    {
     "data": {
      "text/plain": [
       "((480, 2), (103, 2), (103, 2))"
      ]
     },
     "execution_count": 52,
     "metadata": {},
     "output_type": "execute_result"
    }
   ],
   "source": [
    "# train-test-val-split\n",
    "\n",
    "train_df, testval_df = train_test_split(df[['image_path', 'label_encoded']], test_size=0.3, shuffle=True, random_state=42, stratify=df['label_encoded'])\n",
    "val_df, test_df = train_test_split(testval_df, test_size=0.5, shuffle=True, random_state=42, stratify=testval_df['label_encoded'])\n",
    "\n",
    "# check the shape\n",
    "\n",
    "train_df.shape, val_df.shape, test_df.shape"
   ]
  },
  {
   "cell_type": "code",
   "execution_count": 60,
   "metadata": {},
   "outputs": [],
   "source": [
    "# create a custom class for the image dataset\n",
    "\n",
    "class CustomImageDataset(Dataset):\n",
    "  def __init__(self, dataframe, img_dir, transform=None):\n",
    "    self.df = dataframe.reset_index(drop=True)\n",
    "    self.img_dir = img_dir\n",
    "    self.transform = transform\n",
    "\n",
    "  def __len__(self):\n",
    "    return len(self.df)\n",
    "\n",
    "  def __getitem__(self, idx):\n",
    "    img_path = os.path.join(self.img_dir, self.df.loc[idx, 'image_path'])\n",
    "    image = Image.open(img_path).convert('RGB')\n",
    "    label = self.df.loc[idx, 'label_encoded']\n",
    "    if self.transform:\n",
    "      image = self.transform(image)\n",
    "    return image, torch.tensor(label, dtype=torch.long)"
   ]
  },
  {
   "cell_type": "code",
   "execution_count": 61,
   "metadata": {},
   "outputs": [],
   "source": [
    "# define transformers and loaders\n",
    "\n",
    "transform = transforms.Compose([\n",
    "  transforms.Resize((224, 224)),\n",
    "  transforms.ToTensor()\n",
    "])\n",
    "\n",
    "dir_path = '../pictures/'\n",
    "\n",
    "train_ds = CustomImageDataset(train_df, img_dir=dir_path, transform=transform)\n",
    "val_ds = CustomImageDataset(val_df, img_dir=dir_path, transform=transform)\n",
    "test_ds = CustomImageDataset(test_df, img_dir=dir_path, transform=transform)\n",
    "\n",
    "train_loader = DataLoader(train_ds, batch_size=32, shuffle=True)\n",
    "val_loader = DataLoader(val_ds, batch_size=32, shuffle=False)\n",
    "test_loader = DataLoader(test_ds, batch_size=32, shuffle=False)"
   ]
  },
  {
   "cell_type": "code",
   "execution_count": 64,
   "metadata": {},
   "outputs": [
    {
     "name": "stdout",
     "output_type": "stream",
     "text": [
      "<class 'torch.Tensor'> torch.Size([32, 3, 224, 224])\n",
      "<class 'torch.Tensor'> torch.Size([32])\n"
     ]
    }
   ],
   "source": [
    "for images, labels in train_loader:\n",
    "    print(type(images), images.shape)\n",
    "    print(type(labels), labels.shape)\n",
    "    break"
   ]
  },
  {
   "cell_type": "code",
   "execution_count": 65,
   "metadata": {},
   "outputs": [
    {
     "name": "stdout",
     "output_type": "stream",
     "text": [
      "torch.Size([32, 3, 224, 224]) torch.Size([32])\n"
     ]
    }
   ],
   "source": [
    "# check tensors\n",
    "\n",
    "for images, labels in train_loader:\n",
    "  print(images.shape, labels.shape)\n",
    "  break"
   ]
  },
  {
   "cell_type": "code",
   "execution_count": null,
   "metadata": {},
   "outputs": [],
   "source": []
  }
 ],
 "metadata": {
  "kernelspec": {
   "display_name": "huggingface",
   "language": "python",
   "name": "python3"
  },
  "language_info": {
   "codemirror_mode": {
    "name": "ipython",
    "version": 3
   },
   "file_extension": ".py",
   "mimetype": "text/x-python",
   "name": "python",
   "nbconvert_exporter": "python",
   "pygments_lexer": "ipython3",
   "version": "3.11.12"
  }
 },
 "nbformat": 4,
 "nbformat_minor": 2
}
