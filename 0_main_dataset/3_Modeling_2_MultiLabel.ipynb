{
 "cells": [
  {
   "cell_type": "markdown",
   "metadata": {},
   "source": [
    "# Modeling 2 - MultiLabel (add 2 Traits: Tancho and GinRin)"
   ]
  },
  {
   "cell_type": "code",
   "execution_count": 78,
   "metadata": {},
   "outputs": [],
   "source": [
    "# imports\n",
    "\n",
    "import pandas as pd\n",
    "import numpy as np\n",
    "import matplotlib.pyplot as plt\n",
    "import matplotlib.image as mpimg\n",
    "import seaborn as sns\n",
    "import json\n",
    "import os\n",
    "import math\n",
    "\n",
    "from sklearn.metrics import multilabel_confusion_matrix, classification_report, \\\n",
    "  precision_score, recall_score, f1_score\n",
    "\n",
    "from iterstrat.ml_stratifiers import MultilabelStratifiedShuffleSplit\n",
    "\n",
    "from PIL import Image\n",
    "\n",
    "import torch\n",
    "import torch.nn as nn\n",
    "import torch.nn.functional as F\n",
    "import torch.optim as optim\n",
    "from torch.optim.lr_scheduler import ReduceLROnPlateau\n",
    "from torch.utils.data import DataLoader, Dataset\n",
    "from torchvision import transforms\n",
    "import torchvision.models as models\n",
    "from torchvision.models import resnet18, ResNet18_Weights"
   ]
  },
  {
   "cell_type": "code",
   "execution_count": 3,
   "metadata": {},
   "outputs": [
    {
     "data": {
      "text/plain": [
       "'mps'"
      ]
     },
     "execution_count": 3,
     "metadata": {},
     "output_type": "execute_result"
    }
   ],
   "source": [
    "# set device\n",
    "\n",
    "device = 'mps' if torch.backends.mps.is_available() else 'cpu'\n",
    "device"
   ]
  },
  {
   "cell_type": "code",
   "execution_count": 4,
   "metadata": {},
   "outputs": [
    {
     "data": {
      "text/html": [
       "<div>\n",
       "<style scoped>\n",
       "    .dataframe tbody tr th:only-of-type {\n",
       "        vertical-align: middle;\n",
       "    }\n",
       "\n",
       "    .dataframe tbody tr th {\n",
       "        vertical-align: top;\n",
       "    }\n",
       "\n",
       "    .dataframe thead th {\n",
       "        text-align: right;\n",
       "    }\n",
       "</style>\n",
       "<table border=\"1\" class=\"dataframe\">\n",
       "  <thead>\n",
       "    <tr style=\"text-align: right;\">\n",
       "      <th></th>\n",
       "      <th>image_path</th>\n",
       "      <th>tags</th>\n",
       "      <th>uuid</th>\n",
       "      <th>length</th>\n",
       "      <th>price_length</th>\n",
       "      <th>cleaned_price</th>\n",
       "      <th>multi_label</th>\n",
       "      <th>not_empty</th>\n",
       "    </tr>\n",
       "  </thead>\n",
       "  <tbody>\n",
       "    <tr>\n",
       "      <th>0</th>\n",
       "      <td>grandkoi_data/12a49e_High Quality Gin Rin Show...</td>\n",
       "      <td>[Gin, Rin, Showa]</td>\n",
       "      <td>12a49e</td>\n",
       "      <td>32.0</td>\n",
       "      <td>10</td>\n",
       "      <td>34999.0</td>\n",
       "      <td>[Gin, Rin, Showa]</td>\n",
       "      <td>True</td>\n",
       "    </tr>\n",
       "    <tr>\n",
       "      <th>1</th>\n",
       "      <td>grandkoi_data/9ac3a8_High Quality Gin Rin show...</td>\n",
       "      <td>[Gin, Rin, showa]</td>\n",
       "      <td>9ac3a8</td>\n",
       "      <td>32.0</td>\n",
       "      <td>10</td>\n",
       "      <td>34999.0</td>\n",
       "      <td>[Gin, Rin, showa]</td>\n",
       "      <td>True</td>\n",
       "    </tr>\n",
       "    <tr>\n",
       "      <th>2</th>\n",
       "      <td>grandkoi_data/66c804_Gin Rin Karashigoi.jpeg</td>\n",
       "      <td>[Gin, Rin, Karashigoi]</td>\n",
       "      <td>66c804</td>\n",
       "      <td>28.0</td>\n",
       "      <td>9</td>\n",
       "      <td>6999.0</td>\n",
       "      <td>[Gin, Rin]</td>\n",
       "      <td>True</td>\n",
       "    </tr>\n",
       "    <tr>\n",
       "      <th>3</th>\n",
       "      <td>grandkoi_data/34353c_Gin Rin Benigoi.jpeg</td>\n",
       "      <td>[Gin, Rin, Benigoi]</td>\n",
       "      <td>34353c</td>\n",
       "      <td>25.0</td>\n",
       "      <td>9</td>\n",
       "      <td>4999.0</td>\n",
       "      <td>[Gin, Rin]</td>\n",
       "      <td>True</td>\n",
       "    </tr>\n",
       "    <tr>\n",
       "      <th>4</th>\n",
       "      <td>grandkoi_data/b1c670_Tancho Sanke.jpeg</td>\n",
       "      <td>[Tancho, Sanke]</td>\n",
       "      <td>b1c670</td>\n",
       "      <td>22.0</td>\n",
       "      <td>9</td>\n",
       "      <td>3499.0</td>\n",
       "      <td>[Tancho, Sanke]</td>\n",
       "      <td>True</td>\n",
       "    </tr>\n",
       "    <tr>\n",
       "      <th>...</th>\n",
       "      <td>...</td>\n",
       "      <td>...</td>\n",
       "      <td>...</td>\n",
       "      <td>...</td>\n",
       "      <td>...</td>\n",
       "      <td>...</td>\n",
       "      <td>...</td>\n",
       "      <td>...</td>\n",
       "    </tr>\n",
       "    <tr>\n",
       "      <th>854</th>\n",
       "      <td>sacramentokoi_data/83d8dc_Tancho_Ochiba_14″_–_...</td>\n",
       "      <td>[Tancho, Ochiba]</td>\n",
       "      <td>83d8dc</td>\n",
       "      <td>14.0</td>\n",
       "      <td>7</td>\n",
       "      <td>375.0</td>\n",
       "      <td>[Tancho]</td>\n",
       "      <td>True</td>\n",
       "    </tr>\n",
       "    <tr>\n",
       "      <th>855</th>\n",
       "      <td>sacramentokoi_data/0e4681_Tancho_Sakura_Ogon_2...</td>\n",
       "      <td>[Tancho, Sakura, Ogon]</td>\n",
       "      <td>0e4681</td>\n",
       "      <td>20.0</td>\n",
       "      <td>7</td>\n",
       "      <td>950.0</td>\n",
       "      <td>[Tancho]</td>\n",
       "      <td>True</td>\n",
       "    </tr>\n",
       "    <tr>\n",
       "      <th>856</th>\n",
       "      <td>sacramentokoi_data/84af0c_Tancho_Sakura_Ogon_2...</td>\n",
       "      <td>[Tancho, Sakura, Ogon]</td>\n",
       "      <td>84af0c</td>\n",
       "      <td>22.0</td>\n",
       "      <td>9</td>\n",
       "      <td>2100.0</td>\n",
       "      <td>[Tancho]</td>\n",
       "      <td>True</td>\n",
       "    </tr>\n",
       "    <tr>\n",
       "      <th>857</th>\n",
       "      <td>sacramentokoi_data/10e266_Tancho_Showa_15″_–_2...</td>\n",
       "      <td>[Tancho, Showa]</td>\n",
       "      <td>10e266</td>\n",
       "      <td>15.0</td>\n",
       "      <td>7</td>\n",
       "      <td>375.0</td>\n",
       "      <td>[Tancho, Showa]</td>\n",
       "      <td>True</td>\n",
       "    </tr>\n",
       "    <tr>\n",
       "      <th>858</th>\n",
       "      <td>sacramentokoi_data/7cefa7_Tancho_Showa_17″_–_2...</td>\n",
       "      <td>[Tancho, Showa]</td>\n",
       "      <td>7cefa7</td>\n",
       "      <td>17.0</td>\n",
       "      <td>7</td>\n",
       "      <td>450.0</td>\n",
       "      <td>[Tancho, Showa]</td>\n",
       "      <td>True</td>\n",
       "    </tr>\n",
       "  </tbody>\n",
       "</table>\n",
       "<p>859 rows × 8 columns</p>\n",
       "</div>"
      ],
      "text/plain": [
       "                                            image_path  \\\n",
       "0    grandkoi_data/12a49e_High Quality Gin Rin Show...   \n",
       "1    grandkoi_data/9ac3a8_High Quality Gin Rin show...   \n",
       "2         grandkoi_data/66c804_Gin Rin Karashigoi.jpeg   \n",
       "3            grandkoi_data/34353c_Gin Rin Benigoi.jpeg   \n",
       "4               grandkoi_data/b1c670_Tancho Sanke.jpeg   \n",
       "..                                                 ...   \n",
       "854  sacramentokoi_data/83d8dc_Tancho_Ochiba_14″_–_...   \n",
       "855  sacramentokoi_data/0e4681_Tancho_Sakura_Ogon_2...   \n",
       "856  sacramentokoi_data/84af0c_Tancho_Sakura_Ogon_2...   \n",
       "857  sacramentokoi_data/10e266_Tancho_Showa_15″_–_2...   \n",
       "858  sacramentokoi_data/7cefa7_Tancho_Showa_17″_–_2...   \n",
       "\n",
       "                       tags    uuid  length  price_length  cleaned_price  \\\n",
       "0         [Gin, Rin, Showa]  12a49e    32.0            10        34999.0   \n",
       "1         [Gin, Rin, showa]  9ac3a8    32.0            10        34999.0   \n",
       "2    [Gin, Rin, Karashigoi]  66c804    28.0             9         6999.0   \n",
       "3       [Gin, Rin, Benigoi]  34353c    25.0             9         4999.0   \n",
       "4           [Tancho, Sanke]  b1c670    22.0             9         3499.0   \n",
       "..                      ...     ...     ...           ...            ...   \n",
       "854        [Tancho, Ochiba]  83d8dc    14.0             7          375.0   \n",
       "855  [Tancho, Sakura, Ogon]  0e4681    20.0             7          950.0   \n",
       "856  [Tancho, Sakura, Ogon]  84af0c    22.0             9         2100.0   \n",
       "857         [Tancho, Showa]  10e266    15.0             7          375.0   \n",
       "858         [Tancho, Showa]  7cefa7    17.0             7          450.0   \n",
       "\n",
       "           multi_label  not_empty  \n",
       "0    [Gin, Rin, Showa]       True  \n",
       "1    [Gin, Rin, showa]       True  \n",
       "2           [Gin, Rin]       True  \n",
       "3           [Gin, Rin]       True  \n",
       "4      [Tancho, Sanke]       True  \n",
       "..                 ...        ...  \n",
       "854           [Tancho]       True  \n",
       "855           [Tancho]       True  \n",
       "856           [Tancho]       True  \n",
       "857    [Tancho, Showa]       True  \n",
       "858    [Tancho, Showa]       True  \n",
       "\n",
       "[859 rows x 8 columns]"
      ]
     },
     "execution_count": 4,
     "metadata": {},
     "output_type": "execute_result"
    }
   ],
   "source": [
    "# import dataset from json\n",
    "\n",
    "with open('data/df_5labels.json', 'r') as f:\n",
    "  data = json.load(f)\n",
    "\n",
    "df = pd.DataFrame(data)\n",
    "df"
   ]
  },
  {
   "cell_type": "markdown",
   "metadata": {},
   "source": [
    "# Multi-Hot Encode Labels"
   ]
  },
  {
   "cell_type": "code",
   "execution_count": 58,
   "metadata": {},
   "outputs": [
    {
     "data": {
      "text/plain": [
       "[0, 0, 1, 0, 1]"
      ]
     },
     "execution_count": 58,
     "metadata": {},
     "output_type": "execute_result"
    }
   ],
   "source": [
    "# multi-hot encode the labels\n",
    "\n",
    "class_labels = ['kohaku', 'sanke', 'showa', 'tancho', 'gin']\n",
    "mhot_encoded = []\n",
    "\n",
    "for label in class_labels:\n",
    "  mhot_encoded.append(1 if label in [x.lower() for x in df.iloc[0]['multi_label']] else 0)\n",
    "\n",
    "mhot_encoded"
   ]
  },
  {
   "cell_type": "code",
   "execution_count": 6,
   "metadata": {},
   "outputs": [],
   "source": [
    "# create a function to multi-hot encode the labels\n",
    "\n",
    "def mhot_encoder(row: list) -> list:\n",
    "  \"\"\"Multi-hot encode labels into a binary array.\n",
    "\n",
    "  Loops over a list of labels to check if it is in the given row.\n",
    "  Appending 1 if true and 0 if false.\n",
    "\n",
    "  Args:\n",
    "    row(list): A row of a DataFrame\n",
    "\n",
    "  Returns:\n",
    "    list: A list of binary encoded labels\n",
    "  \"\"\"\n",
    "\n",
    "  labels = ['kohaku', 'sanke', 'showa', 'tancho', 'gin']\n",
    "  mhot_encoded = []\n",
    "\n",
    "  for label in labels:\n",
    "    mhot_encoded.append(1 if label in [x.lower() for x in row['multi_label']] else 0)\n",
    "\n",
    "  return mhot_encoded"
   ]
  },
  {
   "cell_type": "code",
   "execution_count": 7,
   "metadata": {},
   "outputs": [
    {
     "data": {
      "text/html": [
       "<div>\n",
       "<style scoped>\n",
       "    .dataframe tbody tr th:only-of-type {\n",
       "        vertical-align: middle;\n",
       "    }\n",
       "\n",
       "    .dataframe tbody tr th {\n",
       "        vertical-align: top;\n",
       "    }\n",
       "\n",
       "    .dataframe thead th {\n",
       "        text-align: right;\n",
       "    }\n",
       "</style>\n",
       "<table border=\"1\" class=\"dataframe\">\n",
       "  <thead>\n",
       "    <tr style=\"text-align: right;\">\n",
       "      <th></th>\n",
       "      <th>image_path</th>\n",
       "      <th>tags</th>\n",
       "      <th>uuid</th>\n",
       "      <th>length</th>\n",
       "      <th>price_length</th>\n",
       "      <th>cleaned_price</th>\n",
       "      <th>multi_label</th>\n",
       "      <th>not_empty</th>\n",
       "      <th>mhe</th>\n",
       "    </tr>\n",
       "  </thead>\n",
       "  <tbody>\n",
       "    <tr>\n",
       "      <th>0</th>\n",
       "      <td>grandkoi_data/12a49e_High Quality Gin Rin Show...</td>\n",
       "      <td>[Gin, Rin, Showa]</td>\n",
       "      <td>12a49e</td>\n",
       "      <td>32.0</td>\n",
       "      <td>10</td>\n",
       "      <td>34999.0</td>\n",
       "      <td>[Gin, Rin, Showa]</td>\n",
       "      <td>True</td>\n",
       "      <td>[0, 0, 1, 0, 1]</td>\n",
       "    </tr>\n",
       "    <tr>\n",
       "      <th>1</th>\n",
       "      <td>grandkoi_data/9ac3a8_High Quality Gin Rin show...</td>\n",
       "      <td>[Gin, Rin, showa]</td>\n",
       "      <td>9ac3a8</td>\n",
       "      <td>32.0</td>\n",
       "      <td>10</td>\n",
       "      <td>34999.0</td>\n",
       "      <td>[Gin, Rin, showa]</td>\n",
       "      <td>True</td>\n",
       "      <td>[0, 0, 1, 0, 1]</td>\n",
       "    </tr>\n",
       "    <tr>\n",
       "      <th>2</th>\n",
       "      <td>grandkoi_data/66c804_Gin Rin Karashigoi.jpeg</td>\n",
       "      <td>[Gin, Rin, Karashigoi]</td>\n",
       "      <td>66c804</td>\n",
       "      <td>28.0</td>\n",
       "      <td>9</td>\n",
       "      <td>6999.0</td>\n",
       "      <td>[Gin, Rin]</td>\n",
       "      <td>True</td>\n",
       "      <td>[0, 0, 0, 0, 1]</td>\n",
       "    </tr>\n",
       "    <tr>\n",
       "      <th>3</th>\n",
       "      <td>grandkoi_data/34353c_Gin Rin Benigoi.jpeg</td>\n",
       "      <td>[Gin, Rin, Benigoi]</td>\n",
       "      <td>34353c</td>\n",
       "      <td>25.0</td>\n",
       "      <td>9</td>\n",
       "      <td>4999.0</td>\n",
       "      <td>[Gin, Rin]</td>\n",
       "      <td>True</td>\n",
       "      <td>[0, 0, 0, 0, 1]</td>\n",
       "    </tr>\n",
       "    <tr>\n",
       "      <th>4</th>\n",
       "      <td>grandkoi_data/b1c670_Tancho Sanke.jpeg</td>\n",
       "      <td>[Tancho, Sanke]</td>\n",
       "      <td>b1c670</td>\n",
       "      <td>22.0</td>\n",
       "      <td>9</td>\n",
       "      <td>3499.0</td>\n",
       "      <td>[Tancho, Sanke]</td>\n",
       "      <td>True</td>\n",
       "      <td>[0, 1, 0, 1, 0]</td>\n",
       "    </tr>\n",
       "    <tr>\n",
       "      <th>...</th>\n",
       "      <td>...</td>\n",
       "      <td>...</td>\n",
       "      <td>...</td>\n",
       "      <td>...</td>\n",
       "      <td>...</td>\n",
       "      <td>...</td>\n",
       "      <td>...</td>\n",
       "      <td>...</td>\n",
       "      <td>...</td>\n",
       "    </tr>\n",
       "    <tr>\n",
       "      <th>854</th>\n",
       "      <td>sacramentokoi_data/83d8dc_Tancho_Ochiba_14″_–_...</td>\n",
       "      <td>[Tancho, Ochiba]</td>\n",
       "      <td>83d8dc</td>\n",
       "      <td>14.0</td>\n",
       "      <td>7</td>\n",
       "      <td>375.0</td>\n",
       "      <td>[Tancho]</td>\n",
       "      <td>True</td>\n",
       "      <td>[0, 0, 0, 1, 0]</td>\n",
       "    </tr>\n",
       "    <tr>\n",
       "      <th>855</th>\n",
       "      <td>sacramentokoi_data/0e4681_Tancho_Sakura_Ogon_2...</td>\n",
       "      <td>[Tancho, Sakura, Ogon]</td>\n",
       "      <td>0e4681</td>\n",
       "      <td>20.0</td>\n",
       "      <td>7</td>\n",
       "      <td>950.0</td>\n",
       "      <td>[Tancho]</td>\n",
       "      <td>True</td>\n",
       "      <td>[0, 0, 0, 1, 0]</td>\n",
       "    </tr>\n",
       "    <tr>\n",
       "      <th>856</th>\n",
       "      <td>sacramentokoi_data/84af0c_Tancho_Sakura_Ogon_2...</td>\n",
       "      <td>[Tancho, Sakura, Ogon]</td>\n",
       "      <td>84af0c</td>\n",
       "      <td>22.0</td>\n",
       "      <td>9</td>\n",
       "      <td>2100.0</td>\n",
       "      <td>[Tancho]</td>\n",
       "      <td>True</td>\n",
       "      <td>[0, 0, 0, 1, 0]</td>\n",
       "    </tr>\n",
       "    <tr>\n",
       "      <th>857</th>\n",
       "      <td>sacramentokoi_data/10e266_Tancho_Showa_15″_–_2...</td>\n",
       "      <td>[Tancho, Showa]</td>\n",
       "      <td>10e266</td>\n",
       "      <td>15.0</td>\n",
       "      <td>7</td>\n",
       "      <td>375.0</td>\n",
       "      <td>[Tancho, Showa]</td>\n",
       "      <td>True</td>\n",
       "      <td>[0, 0, 1, 1, 0]</td>\n",
       "    </tr>\n",
       "    <tr>\n",
       "      <th>858</th>\n",
       "      <td>sacramentokoi_data/7cefa7_Tancho_Showa_17″_–_2...</td>\n",
       "      <td>[Tancho, Showa]</td>\n",
       "      <td>7cefa7</td>\n",
       "      <td>17.0</td>\n",
       "      <td>7</td>\n",
       "      <td>450.0</td>\n",
       "      <td>[Tancho, Showa]</td>\n",
       "      <td>True</td>\n",
       "      <td>[0, 0, 1, 1, 0]</td>\n",
       "    </tr>\n",
       "  </tbody>\n",
       "</table>\n",
       "<p>859 rows × 9 columns</p>\n",
       "</div>"
      ],
      "text/plain": [
       "                                            image_path  \\\n",
       "0    grandkoi_data/12a49e_High Quality Gin Rin Show...   \n",
       "1    grandkoi_data/9ac3a8_High Quality Gin Rin show...   \n",
       "2         grandkoi_data/66c804_Gin Rin Karashigoi.jpeg   \n",
       "3            grandkoi_data/34353c_Gin Rin Benigoi.jpeg   \n",
       "4               grandkoi_data/b1c670_Tancho Sanke.jpeg   \n",
       "..                                                 ...   \n",
       "854  sacramentokoi_data/83d8dc_Tancho_Ochiba_14″_–_...   \n",
       "855  sacramentokoi_data/0e4681_Tancho_Sakura_Ogon_2...   \n",
       "856  sacramentokoi_data/84af0c_Tancho_Sakura_Ogon_2...   \n",
       "857  sacramentokoi_data/10e266_Tancho_Showa_15″_–_2...   \n",
       "858  sacramentokoi_data/7cefa7_Tancho_Showa_17″_–_2...   \n",
       "\n",
       "                       tags    uuid  length  price_length  cleaned_price  \\\n",
       "0         [Gin, Rin, Showa]  12a49e    32.0            10        34999.0   \n",
       "1         [Gin, Rin, showa]  9ac3a8    32.0            10        34999.0   \n",
       "2    [Gin, Rin, Karashigoi]  66c804    28.0             9         6999.0   \n",
       "3       [Gin, Rin, Benigoi]  34353c    25.0             9         4999.0   \n",
       "4           [Tancho, Sanke]  b1c670    22.0             9         3499.0   \n",
       "..                      ...     ...     ...           ...            ...   \n",
       "854        [Tancho, Ochiba]  83d8dc    14.0             7          375.0   \n",
       "855  [Tancho, Sakura, Ogon]  0e4681    20.0             7          950.0   \n",
       "856  [Tancho, Sakura, Ogon]  84af0c    22.0             9         2100.0   \n",
       "857         [Tancho, Showa]  10e266    15.0             7          375.0   \n",
       "858         [Tancho, Showa]  7cefa7    17.0             7          450.0   \n",
       "\n",
       "           multi_label  not_empty              mhe  \n",
       "0    [Gin, Rin, Showa]       True  [0, 0, 1, 0, 1]  \n",
       "1    [Gin, Rin, showa]       True  [0, 0, 1, 0, 1]  \n",
       "2           [Gin, Rin]       True  [0, 0, 0, 0, 1]  \n",
       "3           [Gin, Rin]       True  [0, 0, 0, 0, 1]  \n",
       "4      [Tancho, Sanke]       True  [0, 1, 0, 1, 0]  \n",
       "..                 ...        ...              ...  \n",
       "854           [Tancho]       True  [0, 0, 0, 1, 0]  \n",
       "855           [Tancho]       True  [0, 0, 0, 1, 0]  \n",
       "856           [Tancho]       True  [0, 0, 0, 1, 0]  \n",
       "857    [Tancho, Showa]       True  [0, 0, 1, 1, 0]  \n",
       "858    [Tancho, Showa]       True  [0, 0, 1, 1, 0]  \n",
       "\n",
       "[859 rows x 9 columns]"
      ]
     },
     "execution_count": 7,
     "metadata": {},
     "output_type": "execute_result"
    }
   ],
   "source": [
    "# apply the function to the dataframe\n",
    "\n",
    "df['mhe'] = df.apply(mhot_encoder, axis=1)\n",
    "df"
   ]
  },
  {
   "cell_type": "markdown",
   "metadata": {},
   "source": [
    "# Train/Test/Val Split Using MultilabelStratifiedShuffleSplit"
   ]
  },
  {
   "cell_type": "code",
   "execution_count": 30,
   "metadata": {},
   "outputs": [
    {
     "data": {
      "text/plain": [
       "((859,), (859, 5))"
      ]
     },
     "execution_count": 30,
     "metadata": {},
     "output_type": "execute_result"
    }
   ],
   "source": [
    "# prepare for stratified split using msss\n",
    "\n",
    "X = np.array(df['image_path'].tolist())\n",
    "y = np.array(df['mhe'].tolist())\n",
    "\n",
    "X.shape, y.shape"
   ]
  },
  {
   "cell_type": "code",
   "execution_count": 25,
   "metadata": {},
   "outputs": [],
   "source": [
    "# define stratified splitter for train and testval split\n",
    "\n",
    "msss = MultilabelStratifiedShuffleSplit(n_splits=1, test_size=0.3, random_state=42)"
   ]
  },
  {
   "cell_type": "code",
   "execution_count": 27,
   "metadata": {},
   "outputs": [
    {
     "name": "stdout",
     "output_type": "stream",
     "text": [
      "TRAIN: [  1   2   3   4   5   6   7  10  11  12  15  17  18  20  21  22  23  24\n",
      "  25  27  28  29  30  31  32  33  38  39  41  42  43  44  45  48  49  50\n",
      "  51  53  54  55  56  57  58  60  61  62  63  64  65  66  67  68  69  70\n",
      "  71  72  73  76  77  78  79  81  82  83  84  86  90  92  94  96  97  99\n",
      " 100 101 102 104 107 108 109 110 111 113 114 115 118 119 120 121 122 123\n",
      " 124 125 127 130 131 132 133 134 135 136 137 138 139 140 141 143 145 147\n",
      " 148 149 153 154 155 156 158 159 161 162 163 164 165 168 170 172 173 174\n",
      " 175 176 178 181 182 184 185 188 190 191 192 193 195 196 198 199 201 204\n",
      " 205 208 209 210 211 212 213 214 215 216 218 220 221 222 223 225 226 227\n",
      " 228 229 231 232 234 235 239 241 244 246 247 250 251 253 254 255 256 259\n",
      " 260 261 263 264 265 266 267 269 270 272 273 274 275 278 280 281 282 284\n",
      " 285 286 288 289 290 291 292 294 296 297 298 299 300 302 303 304 306 307\n",
      " 309 311 313 314 316 319 321 323 324 325 326 327 328 329 331 332 333 334\n",
      " 335 336 338 339 340 341 342 343 344 346 350 351 352 353 354 355 357 358\n",
      " 359 360 361 362 363 365 367 368 369 371 373 374 375 376 377 379 380 381\n",
      " 382 383 385 386 387 390 392 393 394 395 396 399 400 401 405 408 409 411\n",
      " 412 413 416 417 418 420 421 422 424 425 426 428 429 430 431 432 434 436\n",
      " 437 438 440 442 444 447 448 449 451 453 454 456 457 463 464 465 466 467\n",
      " 470 471 472 473 476 477 478 479 481 483 484 485 486 487 490 494 495 496\n",
      " 497 499 500 501 505 507 508 510 511 512 516 518 521 522 525 526 527 528\n",
      " 529 530 531 532 534 535 536 537 538 539 540 541 543 544 545 547 548 549\n",
      " 550 552 553 554 556 557 559 560 561 562 566 567 568 569 570 571 572 573\n",
      " 574 575 577 578 579 580 581 582 583 584 585 586 587 589 590 591 592 593\n",
      " 594 595 596 597 598 600 601 602 603 604 605 606 607 609 610 611 612 613\n",
      " 615 617 619 621 622 623 625 626 629 630 632 633 634 635 637 640 641 642\n",
      " 643 647 648 649 650 651 652 653 656 657 658 659 660 661 664 665 666 667\n",
      " 669 670 671 672 673 675 676 677 678 679 682 683 684 685 686 687 688 689\n",
      " 690 691 693 694 696 697 698 699 701 702 703 704 705 706 709 710 711 712\n",
      " 713 714 715 718 719 720 721 722 723 725 727 730 731 732 735 736 738 740\n",
      " 741 742 743 744 745 748 749 750 752 753 754 755 756 758 759 767 768 769\n",
      " 770 771 772 773 774 775 776 777 778 780 783 785 786 788 789 791 792 793\n",
      " 794 796 801 803 806 807 808 809 810 811 812 813 814 815 817 818 819 822\n",
      " 823 824 829 831 832 834 835 836 837 838 839 840 841 843 844 845 846 847\n",
      " 849 850 853 854 855 857 858] TESTVAL: [  0   8   9  13  14  16  19  26  34  35  36  37  40  46  47  52  59  74\n",
      "  75  80  85  87  88  89  91  93  95  98 103 105 106 112 116 117 126 128\n",
      " 129 142 144 146 150 151 152 157 160 166 167 169 171 177 179 180 183 186\n",
      " 187 189 194 197 200 202 203 206 207 217 219 224 230 233 236 237 238 240\n",
      " 242 243 245 248 249 252 257 258 262 268 271 276 277 279 283 287 293 295\n",
      " 301 305 308 310 312 315 317 318 320 322 330 337 345 347 348 349 356 364\n",
      " 366 370 372 378 384 388 389 391 397 398 402 403 404 406 407 410 414 415\n",
      " 419 423 427 433 435 439 441 443 445 446 450 452 455 458 459 460 461 462\n",
      " 468 469 474 475 480 482 488 489 491 492 493 498 502 503 504 506 509 513\n",
      " 514 515 517 519 520 523 524 533 542 546 551 555 558 563 564 565 576 588\n",
      " 599 608 614 616 618 620 624 627 628 631 636 638 639 644 645 646 654 655\n",
      " 662 663 668 674 680 681 692 695 700 707 708 716 717 724 726 728 729 733\n",
      " 734 737 739 746 747 751 757 760 761 762 763 764 765 766 779 781 782 784\n",
      " 787 790 795 797 798 799 800 802 804 805 816 820 821 825 826 827 828 830\n",
      " 833 842 848 851 852 856]\n"
     ]
    }
   ],
   "source": [
    "# apply stratified split to X and y\n",
    "\n",
    "for train_index, testval_index in msss.split(X, y):\n",
    "  print(\"TRAIN:\", train_index, \"TESTVAL:\", testval_index)\n",
    "  X_train, X_testval = X[train_index], X[testval_index]\n",
    "  y_train, y_testval = y[train_index], y[testval_index]"
   ]
  },
  {
   "cell_type": "code",
   "execution_count": 29,
   "metadata": {},
   "outputs": [
    {
     "name": "stdout",
     "output_type": "stream",
     "text": [
      "TEST: [  4   8   9  10  11  12  15  16  19  22  23  24  28  29  30  31  32  33\n",
      "  34  36  38  39  40  41  43  45  48  52  54  56  58  59  60  62  66  68\n",
      "  73  74  75  76  79  80  82  84  85  86  89  90  92  95  96  97  98 102\n",
      " 103 104 105 106 108 110 111 113 115 116 122 123 124 126 127 129 131 132\n",
      " 138 139 144 145 148 149 156 157 158 160 162 165 169 170 173 175 176 178\n",
      " 179 186 189 194 196 197 198 199 200 201 202 203 204 205 207 210 211 212\n",
      " 216 217 219 220 221 225 226 227 230 232 233 234 235 236 237 238 241 245\n",
      " 248 252 253 255 256 257] VAL: [  0   1   2   3   5   6   7  13  14  17  18  20  21  25  26  27  35  37\n",
      "  42  44  46  47  49  50  51  53  55  57  61  63  64  65  67  69  70  71\n",
      "  72  77  78  81  83  87  88  91  93  94  99 100 101 107 109 112 114 117\n",
      " 118 119 120 121 125 128 130 133 134 135 136 137 140 141 142 143 146 147\n",
      " 150 151 152 153 154 155 159 161 163 164 166 167 168 171 172 174 177 180\n",
      " 181 182 183 184 185 187 188 190 191 192 193 195 206 208 209 213 214 215\n",
      " 218 222 223 224 228 229 231 239 240 242 243 244 246 247 249 250 251 254]\n"
     ]
    }
   ],
   "source": [
    "# define stratified splitter for test/val\n",
    "\n",
    "msss2 = MultilabelStratifiedShuffleSplit(n_splits=1, test_size=0.5, random_state=42)\n",
    "\n",
    "# apply stratified split to X and y\n",
    "\n",
    "for test_index, val_index in msss2.split(X_testval, y_testval):\n",
    "  print(\"TEST:\", test_index, \"VAL:\", val_index)\n",
    "  X_test, X_val = X[test_index], X[val_index]\n",
    "  y_test, y_val = y[test_index], y[val_index]"
   ]
  },
  {
   "cell_type": "code",
   "execution_count": 32,
   "metadata": {},
   "outputs": [
    {
     "data": {
      "text/plain": [
       "((601,), (601, 5), (132,), (132, 5), (126,), (126, 5))"
      ]
     },
     "execution_count": 32,
     "metadata": {},
     "output_type": "execute_result"
    }
   ],
   "source": [
    "# check the shapes\n",
    "\n",
    "X_train.shape, y_train.shape, X_test.shape, y_test.shape, X_val.shape, y_val.shape"
   ]
  },
  {
   "cell_type": "code",
   "execution_count": 38,
   "metadata": {},
   "outputs": [
    {
     "data": {
      "text/plain": [
       "((601, 2), (132, 2), (126, 2))"
      ]
     },
     "execution_count": 38,
     "metadata": {},
     "output_type": "execute_result"
    }
   ],
   "source": [
    "# recombine the X and y for loading into tensors\n",
    "\n",
    "train_df = pd.DataFrame({'image_path': X_train, 'mhe': list(y_train)})\n",
    "test_df = pd.DataFrame({'image_path': X_test, 'mhe': list(y_test)})\n",
    "val_df = pd.DataFrame({'image_path': X_val, 'mhe': list(y_val)})\n",
    "\n",
    "# check the shape of the dataframes\n",
    "\n",
    "train_df.shape, test_df.shape, val_df.shape"
   ]
  },
  {
   "cell_type": "code",
   "execution_count": 46,
   "metadata": {},
   "outputs": [
    {
     "data": {
      "text/html": [
       "<div>\n",
       "<style scoped>\n",
       "    .dataframe tbody tr th:only-of-type {\n",
       "        vertical-align: middle;\n",
       "    }\n",
       "\n",
       "    .dataframe tbody tr th {\n",
       "        vertical-align: top;\n",
       "    }\n",
       "\n",
       "    .dataframe thead th {\n",
       "        text-align: right;\n",
       "    }\n",
       "</style>\n",
       "<table border=\"1\" class=\"dataframe\">\n",
       "  <thead>\n",
       "    <tr style=\"text-align: right;\">\n",
       "      <th></th>\n",
       "      <th>image_path</th>\n",
       "      <th>mhe</th>\n",
       "    </tr>\n",
       "  </thead>\n",
       "  <tbody>\n",
       "    <tr>\n",
       "      <th>0</th>\n",
       "      <td>grandkoi_data/9ac3a8_High Quality Gin Rin show...</td>\n",
       "      <td>[0, 0, 1, 0, 1]</td>\n",
       "    </tr>\n",
       "    <tr>\n",
       "      <th>1</th>\n",
       "      <td>grandkoi_data/66c804_Gin Rin Karashigoi.jpeg</td>\n",
       "      <td>[0, 0, 0, 0, 1]</td>\n",
       "    </tr>\n",
       "    <tr>\n",
       "      <th>2</th>\n",
       "      <td>grandkoi_data/34353c_Gin Rin Benigoi.jpeg</td>\n",
       "      <td>[0, 0, 0, 0, 1]</td>\n",
       "    </tr>\n",
       "    <tr>\n",
       "      <th>3</th>\n",
       "      <td>grandkoi_data/b1c670_Tancho Sanke.jpeg</td>\n",
       "      <td>[0, 1, 0, 1, 0]</td>\n",
       "    </tr>\n",
       "    <tr>\n",
       "      <th>4</th>\n",
       "      <td>grandkoi_data/58e2f4_Tancho Sanke.jpeg</td>\n",
       "      <td>[0, 1, 0, 1, 0]</td>\n",
       "    </tr>\n",
       "    <tr>\n",
       "      <th>...</th>\n",
       "      <td>...</td>\n",
       "      <td>...</td>\n",
       "    </tr>\n",
       "    <tr>\n",
       "      <th>596</th>\n",
       "      <td>sacramentokoi_data/a392f8_Tancho_Kujaku_21″_–_...</td>\n",
       "      <td>[0, 0, 0, 1, 0]</td>\n",
       "    </tr>\n",
       "    <tr>\n",
       "      <th>597</th>\n",
       "      <td>sacramentokoi_data/83d8dc_Tancho_Ochiba_14″_–_...</td>\n",
       "      <td>[0, 0, 0, 1, 0]</td>\n",
       "    </tr>\n",
       "    <tr>\n",
       "      <th>598</th>\n",
       "      <td>sacramentokoi_data/0e4681_Tancho_Sakura_Ogon_2...</td>\n",
       "      <td>[0, 0, 0, 1, 0]</td>\n",
       "    </tr>\n",
       "    <tr>\n",
       "      <th>599</th>\n",
       "      <td>sacramentokoi_data/10e266_Tancho_Showa_15″_–_2...</td>\n",
       "      <td>[0, 0, 1, 1, 0]</td>\n",
       "    </tr>\n",
       "    <tr>\n",
       "      <th>600</th>\n",
       "      <td>sacramentokoi_data/7cefa7_Tancho_Showa_17″_–_2...</td>\n",
       "      <td>[0, 0, 1, 1, 0]</td>\n",
       "    </tr>\n",
       "  </tbody>\n",
       "</table>\n",
       "<p>601 rows × 2 columns</p>\n",
       "</div>"
      ],
      "text/plain": [
       "                                            image_path              mhe\n",
       "0    grandkoi_data/9ac3a8_High Quality Gin Rin show...  [0, 0, 1, 0, 1]\n",
       "1         grandkoi_data/66c804_Gin Rin Karashigoi.jpeg  [0, 0, 0, 0, 1]\n",
       "2            grandkoi_data/34353c_Gin Rin Benigoi.jpeg  [0, 0, 0, 0, 1]\n",
       "3               grandkoi_data/b1c670_Tancho Sanke.jpeg  [0, 1, 0, 1, 0]\n",
       "4               grandkoi_data/58e2f4_Tancho Sanke.jpeg  [0, 1, 0, 1, 0]\n",
       "..                                                 ...              ...\n",
       "596  sacramentokoi_data/a392f8_Tancho_Kujaku_21″_–_...  [0, 0, 0, 1, 0]\n",
       "597  sacramentokoi_data/83d8dc_Tancho_Ochiba_14″_–_...  [0, 0, 0, 1, 0]\n",
       "598  sacramentokoi_data/0e4681_Tancho_Sakura_Ogon_2...  [0, 0, 0, 1, 0]\n",
       "599  sacramentokoi_data/10e266_Tancho_Showa_15″_–_2...  [0, 0, 1, 1, 0]\n",
       "600  sacramentokoi_data/7cefa7_Tancho_Showa_17″_–_2...  [0, 0, 1, 1, 0]\n",
       "\n",
       "[601 rows x 2 columns]"
      ]
     },
     "execution_count": 46,
     "metadata": {},
     "output_type": "execute_result"
    }
   ],
   "source": [
    "train_df"
   ]
  },
  {
   "cell_type": "markdown",
   "metadata": {},
   "source": [
    "# Creating Datasets"
   ]
  },
  {
   "cell_type": "code",
   "execution_count": 43,
   "metadata": {},
   "outputs": [],
   "source": [
    "# create a custom multi-label image dataset class\n",
    "\n",
    "class CustomMultiLabelDataset(Dataset):\n",
    "  def __init__(self, image_paths, labels, transforms=None):\n",
    "    self.image_paths = image_paths\n",
    "    self.labels = labels\n",
    "    self.transforms = transforms\n",
    "\n",
    "  def __len__(self):\n",
    "    return len(self.image_paths)\n",
    "\n",
    "  def __getitem__(self, idx):\n",
    "    # load and transform image\n",
    "    image = Image.open(self.image_paths[idx]).convert('RGB')\n",
    "    if self.transforms:\n",
    "      image = self.transforms(image)\n",
    "\n",
    "    # convert label to tensor\n",
    "    label = torch.FloatTensor(self.labels[idx])\n",
    "\n",
    "    return image, label"
   ]
  },
  {
   "cell_type": "code",
   "execution_count": 51,
   "metadata": {},
   "outputs": [],
   "source": [
    "# define the transformer\n",
    "\n",
    "transform = transforms.Compose([\n",
    "  transforms.Resize((224,224)),\n",
    "  transforms.ToTensor(),\n",
    "  transforms.Normalize([0.485,0.456,0.406],[0.229, 0.224, 0.225])\n",
    "])\n",
    "\n",
    "# set the file directory path\n",
    "\n",
    "dir_path = '../pictures/'"
   ]
  },
  {
   "cell_type": "code",
   "execution_count": 52,
   "metadata": {},
   "outputs": [],
   "source": [
    "# create a helper function to add the directory path to file path\n",
    "\n",
    "def prepend_dir(df, dir_path):\n",
    "    return df['image_path'].apply(lambda x: os.path.join(dir_path, x)).tolist()\n",
    "\n",
    "# create the datasets\n",
    "\n",
    "train_ds = CustomMultiLabelDataset(\n",
    "    image_paths=prepend_dir(train_df, dir_path),\n",
    "    labels=train_df['mhe'].tolist(),\n",
    "    transforms=transform\n",
    ")\n",
    "\n",
    "val_ds = CustomMultiLabelDataset(\n",
    "    image_paths=prepend_dir(val_df, dir_path),\n",
    "    labels=val_df['mhe'].tolist(),\n",
    "    transforms=transform\n",
    ")\n",
    "\n",
    "test_ds = CustomMultiLabelDataset(\n",
    "    image_paths=prepend_dir(test_df, dir_path),\n",
    "    labels=test_df['mhe'].tolist(),\n",
    "    transforms=transform\n",
    ")"
   ]
  },
  {
   "cell_type": "code",
   "execution_count": 49,
   "metadata": {},
   "outputs": [],
   "source": [
    "# create data loaders\n",
    "\n",
    "train_loader = DataLoader(train_ds, batch_size=32, shuffle=True)\n",
    "test_loader = DataLoader(test_ds, batch_size=32, shuffle=False)\n",
    "val_loader = DataLoader(val_ds, batch_size=32, shuffle=False)"
   ]
  },
  {
   "cell_type": "code",
   "execution_count": 53,
   "metadata": {},
   "outputs": [
    {
     "name": "stdout",
     "output_type": "stream",
     "text": [
      "<class 'torch.Tensor'> torch.Size([32, 3, 224, 224])\n",
      "<class 'torch.Tensor'> torch.Size([32, 5])\n",
      "<class 'torch.Tensor'> torch.Size([32, 3, 224, 224])\n",
      "<class 'torch.Tensor'> torch.Size([32, 5])\n",
      "<class 'torch.Tensor'> torch.Size([32, 3, 224, 224])\n",
      "<class 'torch.Tensor'> torch.Size([32, 5])\n"
     ]
    }
   ],
   "source": [
    "# check the tensors\n",
    "\n",
    "for images, labels in train_loader:\n",
    "    print(type(images), images.shape)\n",
    "    print(type(labels), labels.shape)\n",
    "    break\n",
    "\n",
    "for images, labels in test_loader:\n",
    "    print(type(images), images.shape)\n",
    "    print(type(labels), labels.shape)\n",
    "    break\n",
    "\n",
    "for images, labels in val_loader:\n",
    "    print(type(images), images.shape)\n",
    "    print(type(labels), labels.shape)\n",
    "    break"
   ]
  },
  {
   "cell_type": "markdown",
   "metadata": {},
   "source": [
    "# Baseline Model Using ResNet18 (unfrozen layers)"
   ]
  },
  {
   "cell_type": "code",
   "execution_count": 61,
   "metadata": {},
   "outputs": [],
   "source": [
    "# define the model\n",
    "\n",
    "num_classes = len(class_labels)\n",
    "\n",
    "model = models.resnet18(weights=ResNet18_Weights.DEFAULT)\n",
    "model.fc = nn.Linear(model.fc.in_features, num_classes)\n",
    "model = model.to(device)\n",
    "\n",
    "# define loss and optimizer\n",
    "\n",
    "criterion = nn.BCEWithLogitsLoss()\n",
    "optimizer = optim.Adam(model.parameters(), lr=0.001)"
   ]
  },
  {
   "cell_type": "code",
   "execution_count": 63,
   "metadata": {},
   "outputs": [
    {
     "name": "stdout",
     "output_type": "stream",
     "text": [
      "Epoch 1/20 | Train Loss: 0.2768, Train Acc: 88.55% | Val Loss: 0.2250, Val Acc: 92.38%\n",
      "Epoch 2/20 | Train Loss: 0.1599, Train Acc: 93.61% | Val Loss: 0.6227, Val Acc: 84.60%\n",
      "Epoch 3/20 | Train Loss: 0.1173, Train Acc: 95.57% | Val Loss: 0.1374, Val Acc: 93.97%\n",
      "Epoch 4/20 | Train Loss: 0.0805, Train Acc: 97.04% | Val Loss: 0.0989, Val Acc: 96.03%\n",
      "Epoch 5/20 | Train Loss: 0.0540, Train Acc: 98.27% | Val Loss: 0.2995, Val Acc: 86.98%\n",
      "Epoch 6/20 | Train Loss: 0.0497, Train Acc: 98.44% | Val Loss: 0.3659, Val Acc: 89.37%\n",
      "Epoch 7/20 | Train Loss: 0.0487, Train Acc: 98.07% | Val Loss: 0.2351, Val Acc: 91.27%\n",
      "Epoch 8/20 | Train Loss: 0.0413, Train Acc: 98.34% | Val Loss: 0.4733, Val Acc: 87.46%\n",
      "Epoch 9/20 | Train Loss: 0.0568, Train Acc: 98.04% | Val Loss: 0.1686, Val Acc: 94.29%\n",
      "Epoch 10/20 | Train Loss: 0.0293, Train Acc: 99.03% | Val Loss: 0.1076, Val Acc: 96.83%\n",
      "Epoch 11/20 | Train Loss: 0.0304, Train Acc: 98.90% | Val Loss: 0.0726, Val Acc: 98.10%\n",
      "Epoch 12/20 | Train Loss: 0.0306, Train Acc: 98.87% | Val Loss: 0.0918, Val Acc: 97.62%\n",
      "Epoch 13/20 | Train Loss: 0.0269, Train Acc: 99.10% | Val Loss: 0.1229, Val Acc: 96.03%\n",
      "Epoch 14/20 | Train Loss: 0.0137, Train Acc: 99.70% | Val Loss: 0.0606, Val Acc: 98.73%\n",
      "Epoch 15/20 | Train Loss: 0.0132, Train Acc: 99.63% | Val Loss: 0.0974, Val Acc: 96.51%\n",
      "Epoch 16/20 | Train Loss: 0.0090, Train Acc: 99.80% | Val Loss: 0.0922, Val Acc: 97.78%\n",
      "Epoch 17/20 | Train Loss: 0.0097, Train Acc: 99.73% | Val Loss: 0.0801, Val Acc: 98.25%\n",
      "Epoch 18/20 | Train Loss: 0.0126, Train Acc: 99.70% | Val Loss: 0.0792, Val Acc: 98.10%\n",
      "Epoch 19/20 | Train Loss: 0.0095, Train Acc: 99.77% | Val Loss: 0.0887, Val Acc: 98.10%\n",
      "Epoch 20/20 | Train Loss: 0.0065, Train Acc: 99.87% | Val Loss: 0.0528, Val Acc: 98.41%\n"
     ]
    }
   ],
   "source": [
    "# create the training loop\n",
    "\n",
    "num_epochs = 20\n",
    "\n",
    "train_losses = []\n",
    "train_accuracies = []\n",
    "val_losses = []\n",
    "val_accuracies = []\n",
    "\n",
    "for epoch in range(num_epochs):\n",
    "  # set the model to training mode\n",
    "  model.train()\n",
    "  # initialize loss tracking\n",
    "  total_train_loss = 0\n",
    "  train_correct = 0\n",
    "  train_total = 0\n",
    "\n",
    "  # loop through training data in batches\n",
    "  for images, labels in train_loader:\n",
    "    images = images.to(device) # move data to MPS\n",
    "    labels = labels.to(device) # move data to MPS\n",
    "\n",
    "    # reset the gradients\n",
    "    optimizer.zero_grad()\n",
    "    # forward pass\n",
    "    outputs = model(images)\n",
    "    # compute the loss\n",
    "    loss = criterion(outputs, labels)\n",
    "    # backward pass\n",
    "    loss.backward()\n",
    "    # update model weights\n",
    "    optimizer.step()\n",
    "\n",
    "    # add batch loss to total\n",
    "    total_train_loss += loss.item()\n",
    "\n",
    "    # apply sigmoid and threshold to get multi-label predictions\n",
    "    probs = torch.sigmoid(outputs)\n",
    "    predicted = (probs > 0.5).float()\n",
    "\n",
    "    # count the correct predictions per label\n",
    "    train_correct += (predicted == labels).float().sum().item()\n",
    "    train_total += labels.numel()\n",
    "\n",
    "  avg_train_loss = total_train_loss / len(train_loader)\n",
    "  train_acc = train_correct / train_total\n",
    "\n",
    "  train_losses.append(avg_train_loss)\n",
    "  train_accuracies.append(train_acc)\n",
    "\n",
    "  # VALIDATION\n",
    "  model.eval()\n",
    "  total_val_loss = 0\n",
    "  val_correct = 0\n",
    "  val_total = 0\n",
    "\n",
    "  with torch.no_grad():\n",
    "    for images, labels in val_loader:\n",
    "      images = images.to(device)\n",
    "      labels = labels.to(device)\n",
    "\n",
    "      outputs = model(images)\n",
    "      loss = criterion(outputs, labels)\n",
    "      total_val_loss += loss.item()\n",
    "\n",
    "      # apply sigmoid and threshold to get multi-label predictions\n",
    "      probs = torch.sigmoid(outputs)\n",
    "      predicted = (probs > 0.5).float()\n",
    "\n",
    "      # count the correct predictions per label\n",
    "      val_correct += (predicted == labels).float().sum().item()\n",
    "      val_total += labels.numel()\n",
    "\n",
    "  avg_val_loss = total_val_loss / len(val_loader)\n",
    "  val_acc = val_correct / val_total\n",
    "\n",
    "  val_losses.append(avg_val_loss)\n",
    "  val_accuracies.append(val_acc)\n",
    "\n",
    "  # print loss for this epochs\n",
    "  print(f\"Epoch {epoch+1}/{num_epochs} | \"\n",
    "        f\"Train Loss: {avg_train_loss:.4f}, Train Acc: {train_acc:.2%} | \"\n",
    "        f\"Val Loss: {avg_val_loss:.4f}, Val Acc: {val_acc:.2%}\")"
   ]
  },
  {
   "cell_type": "code",
   "execution_count": 64,
   "metadata": {},
   "outputs": [
    {
     "data": {
      "image/png": "[encoded data removed]",
      "text/plain": [
       "<Figure size 1200x600 with 2 Axes>"
      ]
     },
     "metadata": {},
     "output_type": "display_data"
    }
   ],
   "source": [
    "# plot the loss and accuracy over epochs\n",
    "\n",
    "epochs = range(1, num_epochs +1)\n",
    "plt.figure(figsize=(12,6))\n",
    "\n",
    "# plot the loss\n",
    "plt.subplot(1,2,1)\n",
    "plt.plot(epochs, train_losses, label='Train Loss', marker='o')\n",
    "plt.plot(epochs, val_losses, label='Val Loss', marker ='o')\n",
    "plt.title('Loss Over Epochs')\n",
    "plt.xlabel('Epoch')\n",
    "plt.ylabel('Loss')\n",
    "plt.legend()\n",
    "\n",
    "# plot the accuracy\n",
    "plt.subplot(1,2,2)\n",
    "plt.plot(epochs, train_accuracies, label='Train Acc', marker='o')\n",
    "plt.plot(epochs, val_accuracies, label='Val Acc', marker='o')\n",
    "plt.title('Accuracy Over Epochs')\n",
    "plt.xlabel('Epoch')\n",
    "plt.ylabel('Accuracy')\n",
    "plt.legend()\n",
    "\n",
    "plt.tight_layout()\n",
    "plt.show()"
   ]
  },
  {
   "cell_type": "code",
   "execution_count": 83,
   "metadata": {},
   "outputs": [
    {
     "name": "stdout",
     "output_type": "stream",
     "text": [
      "Validation Accuracy: 0.9365, F1 Score: 0.9755, Precision: 0.9774, Recall: 0.9750\n"
     ]
    }
   ],
   "source": [
    "# calculate the validation metrics\n",
    "\n",
    "model.eval()\n",
    "all_preds = []\n",
    "all_labels = []\n",
    "\n",
    "with torch.no_grad():\n",
    "    for images, labels in val_loader:\n",
    "        images = images.to(device)\n",
    "        labels = labels.to(device)\n",
    "\n",
    "        outputs = model(images)\n",
    "        probs = torch.sigmoid(outputs)\n",
    "        preds = (probs > 0.5).int()\n",
    "\n",
    "        all_preds.append(preds.cpu())   # moves predictions and labels from GPU to CPU\n",
    "        all_labels.append(labels.cpu().int()) # convert labels to int (for metrics like precision/recall)\n",
    "\n",
    "# Stack all batches together (concatenate all mini-batch tensors into one big tensor)\n",
    "all_preds = torch.cat(all_preds).numpy()    # convert to numpy for metrics\n",
    "all_labels = torch.cat(all_labels).numpy()\n",
    "\n",
    "# Calculate accuracy (all labels must be correct)\n",
    "all_preds_tensor = torch.tensor(all_preds)\n",
    "all_labels_tensor = torch.tensor(all_labels)\n",
    "matches = (all_preds_tensor == all_labels_tensor).all(dim=1).float() # checks if all labels match\n",
    "accuracy = matches.mean().item()    # compute overall accuracy\n",
    "\n",
    "# Metrics\n",
    "f1 = f1_score(all_labels, all_preds, average='macro')\n",
    "precision = precision_score(all_labels, all_preds, average='macro')\n",
    "recall = recall_score(all_labels, all_preds, average='macro')\n",
    "\n",
    "print(f\"Validation Accuracy: {accuracy:.4f}, F1 Score: {f1:.4f}, Precision: {precision:.4f}, Recall: {recall:.4f}\")"
   ]
  },
  {
   "cell_type": "code",
   "execution_count": 74,
   "metadata": {},
   "outputs": [
    {
     "name": "stdout",
     "output_type": "stream",
     "text": [
      "              precision    recall  f1-score   support\n",
      "\n",
      "      kohaku       0.97      1.00      0.99        35\n",
      "       sanke       0.93      1.00      0.97        14\n",
      "       showa       1.00      0.98      0.99        43\n",
      "      tancho       1.00      1.00      1.00        13\n",
      "         gin       0.98      0.90      0.94        59\n",
      "\n",
      "   micro avg       0.98      0.96      0.97       164\n",
      "   macro avg       0.98      0.98      0.98       164\n",
      "weighted avg       0.98      0.96      0.97       164\n",
      " samples avg       0.98      0.97      0.97       164\n",
      "\n"
     ]
    }
   ],
   "source": [
    "# check the classification report\n",
    "\n",
    "print(classification_report(all_labels, all_preds, target_names=class_labels))\n",
    "\n",
    "# create the confusion matrix\n",
    "\n",
    "conf_matrices = multilabel_confusion_matrix(all_labels, all_preds)"
   ]
  },
  {
   "cell_type": "code",
   "execution_count": 76,
   "metadata": {},
   "outputs": [
    {
     "data": {
      "image/png": "[encoded data removed]",
      "text/plain": [
       "<Figure size 400x300 with 1 Axes>"
      ]
     },
     "metadata": {},
     "output_type": "display_data"
    },
    {
     "data": {
      "image/png": "[encoded data removed]",
      "text/plain": [
       "<Figure size 400x300 with 1 Axes>"
      ]
     },
     "metadata": {},
     "output_type": "display_data"
    },
    {
     "data": {
      "image/png": "[encoded data removed]",
      "text/plain": [
       "<Figure size 400x300 with 1 Axes>"
      ]
     },
     "metadata": {},
     "output_type": "display_data"
    },
    {
     "data": {
      "image/png": "[encoded data removed]",
      "text/plain": [
       "<Figure size 400x300 with 1 Axes>"
      ]
     },
     "metadata": {},
     "output_type": "display_data"
    },
    {
     "data": {
      "image/png": "[encoded data removed]",
      "text/plain": [
       "<Figure size 400x300 with 1 Axes>"
      ]
     },
     "metadata": {},
     "output_type": "display_data"
    }
   ],
   "source": [
    "# display the confusion matrix for each label\n",
    "\n",
    "for i, cm in enumerate(conf_matrices):\n",
    "    plt.figure(figsize=(4, 3))\n",
    "    sns.heatmap(cm, annot=True, fmt='d', cmap='Blues', cbar=False,\n",
    "                xticklabels=['Pred 0', 'Pred 1'],\n",
    "                yticklabels=['True 0', 'True 1'])\n",
    "    plt.title(f'Confusion Matrix for {class_labels[i]}')\n",
    "    plt.ylabel('True Label')\n",
    "    plt.xlabel('Predicted Label')\n",
    "    plt.tight_layout()\n",
    "    plt.show()"
   ]
  },
  {
   "cell_type": "markdown",
   "metadata": {},
   "source": [
    "- Most of the errors are due to False Negatives of GinRin, where the model is predicting that the image is not GinRin, but in fact, it does.\n",
    "- The recall for ginrin is 0.90."
   ]
  },
  {
   "cell_type": "markdown",
   "metadata": {},
   "source": [
    "# Balance Classes"
   ]
  },
  {
   "cell_type": "code",
   "execution_count": 100,
   "metadata": {},
   "outputs": [
    {
     "name": "stdout",
     "output_type": "stream",
     "text": [
      "label_counts: [181 165 126  42 191]\n",
      "total_samples: 601\n",
      "pos_weights: [ 3.32044199  3.64242424  4.76984127 14.30952381  3.14659686]\n"
     ]
    }
   ],
   "source": [
    "# use BCEWithLogitsLoss's pos_weights to balance class weights\n",
    "\n",
    "# step 1: calculate the weights\n",
    "label_counts = y_train.sum(axis=0)\n",
    "print(f'label_counts: {label_counts}')\n",
    "\n",
    "total_samples = y_train.shape[0]\n",
    "print(f'total_samples: {total_samples}')\n",
    "\n",
    "pos_weights = total_samples / label_counts\n",
    "print(f'pos_weights: {pos_weights}')\n"
   ]
  },
  {
   "cell_type": "code",
   "execution_count": null,
   "metadata": {},
   "outputs": [],
   "source": []
  },
  {
   "cell_type": "code",
   "execution_count": null,
   "metadata": {},
   "outputs": [],
   "source": [
    "# create a function for the training loop\n"
   ]
  }
 ],
 "metadata": {
  "kernelspec": {
   "display_name": "pytorch-1",
   "language": "python",
   "name": "python3"
  },
  "language_info": {
   "codemirror_mode": {
    "name": "ipython",
    "version": 3
   },
   "file_extension": ".py",
   "mimetype": "text/x-python",
   "name": "python",
   "nbconvert_exporter": "python",
   "pygments_lexer": "ipython3",
   "version": "3.11.12"
  }
 },
 "nbformat": 4,
 "nbformat_minor": 2
}
