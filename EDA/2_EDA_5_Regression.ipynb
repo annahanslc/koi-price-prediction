{
 "cells": [
  {
   "cell_type": "markdown",
   "metadata": {},
   "source": [
    "# EDA 5 - Wrangling Data for Regression"
   ]
  },
  {
   "cell_type": "code",
   "execution_count": 1,
   "metadata": {},
   "outputs": [],
   "source": [
    "# imports\n",
    "\n",
    "import pandas as pd\n",
    "import numpy as np\n",
    "import matplotlib.pyplot as plt\n",
    "import matplotlib.image as mpimg\n",
    "import json\n",
    "import seaborn as sns\n",
    "from IPython.display import Markdown, display\n",
    "\n",
    "from sklearn.model_selection import train_test_split"
   ]
  },
  {
   "cell_type": "code",
   "execution_count": 2,
   "metadata": {},
   "outputs": [],
   "source": [
    "# import cleaned df\n",
    "\n",
    "with open('data/df_cleaned.json', 'r') as f:\n",
    "  data = json.load(f)\n",
    "\n",
    "df = pd.DataFrame(data)"
   ]
  },
  {
   "cell_type": "code",
   "execution_count": 3,
   "metadata": {},
   "outputs": [
    {
     "data": {
      "text/html": [
       "<div>\n",
       "<style scoped>\n",
       "    .dataframe tbody tr th:only-of-type {\n",
       "        vertical-align: middle;\n",
       "    }\n",
       "\n",
       "    .dataframe tbody tr th {\n",
       "        vertical-align: top;\n",
       "    }\n",
       "\n",
       "    .dataframe thead th {\n",
       "        text-align: right;\n",
       "    }\n",
       "</style>\n",
       "<table border=\"1\" class=\"dataframe\">\n",
       "  <thead>\n",
       "    <tr style=\"text-align: right;\">\n",
       "      <th></th>\n",
       "      <th>image_path</th>\n",
       "      <th>tags</th>\n",
       "      <th>uuid</th>\n",
       "      <th>length</th>\n",
       "      <th>price_length</th>\n",
       "      <th>cleaned_price</th>\n",
       "    </tr>\n",
       "  </thead>\n",
       "  <tbody>\n",
       "    <tr>\n",
       "      <th>0</th>\n",
       "      <td>champkoi_data/18f755_A_32_Female_Kohaku_[Nogam...</td>\n",
       "      <td>['Kohaku']</td>\n",
       "      <td>18f755</td>\n",
       "      <td>32.0</td>\n",
       "      <td>7</td>\n",
       "      <td>14000.0</td>\n",
       "    </tr>\n",
       "    <tr>\n",
       "      <th>1</th>\n",
       "      <td>gckoi_data/d9a7dbc_HIGH_QUALITY_SAKAI_BLOODLIN...</td>\n",
       "      <td>['kohaku', 'koi', 'Marukyu', 'nisai']</td>\n",
       "      <td>d9a7dbc</td>\n",
       "      <td>24.0</td>\n",
       "      <td>6</td>\n",
       "      <td>3500.0</td>\n",
       "    </tr>\n",
       "    <tr>\n",
       "      <th>2</th>\n",
       "      <td>gckoi_data/88ec869_ISA_KOHAKU_GUARANTEE_FEMALE...</td>\n",
       "      <td>['isa', 'kohaku', 'koi', 'nisai']</td>\n",
       "      <td>88ec869</td>\n",
       "      <td>21.5</td>\n",
       "      <td>6</td>\n",
       "      <td>2500.0</td>\n",
       "    </tr>\n",
       "    <tr>\n",
       "      <th>3</th>\n",
       "      <td>gckoi_data/3a7df4e_DAINICHI_3SAI_FEMALE_KOHAKU...</td>\n",
       "      <td>['dainichi', 'fall 2024', 'kohaku', 'koi', 'sa...</td>\n",
       "      <td>3a7df4e</td>\n",
       "      <td>27.0</td>\n",
       "      <td>6</td>\n",
       "      <td>3800.0</td>\n",
       "    </tr>\n",
       "    <tr>\n",
       "      <th>4</th>\n",
       "      <td>gckoi_data/cb26670_DAINICHI_BLOODLINE_KOHAKU_2...</td>\n",
       "      <td>['dainichi', 'fall 2024', 'kohaku', 'koi', 'ni...</td>\n",
       "      <td>cb26670</td>\n",
       "      <td>20.0</td>\n",
       "      <td>5</td>\n",
       "      <td>600.0</td>\n",
       "    </tr>\n",
       "  </tbody>\n",
       "</table>\n",
       "</div>"
      ],
      "text/plain": [
       "                                          image_path  \\\n",
       "0  champkoi_data/18f755_A_32_Female_Kohaku_[Nogam...   \n",
       "1  gckoi_data/d9a7dbc_HIGH_QUALITY_SAKAI_BLOODLIN...   \n",
       "2  gckoi_data/88ec869_ISA_KOHAKU_GUARANTEE_FEMALE...   \n",
       "3  gckoi_data/3a7df4e_DAINICHI_3SAI_FEMALE_KOHAKU...   \n",
       "4  gckoi_data/cb26670_DAINICHI_BLOODLINE_KOHAKU_2...   \n",
       "\n",
       "                                                tags     uuid  length  \\\n",
       "0                                         ['Kohaku']   18f755    32.0   \n",
       "1              ['kohaku', 'koi', 'Marukyu', 'nisai']  d9a7dbc    24.0   \n",
       "2                  ['isa', 'kohaku', 'koi', 'nisai']  88ec869    21.5   \n",
       "3  ['dainichi', 'fall 2024', 'kohaku', 'koi', 'sa...  3a7df4e    27.0   \n",
       "4  ['dainichi', 'fall 2024', 'kohaku', 'koi', 'ni...  cb26670    20.0   \n",
       "\n",
       "   price_length  cleaned_price  \n",
       "0             7        14000.0  \n",
       "1             6         3500.0  \n",
       "2             6         2500.0  \n",
       "3             6         3800.0  \n",
       "4             5          600.0  "
      ]
     },
     "execution_count": 3,
     "metadata": {},
     "output_type": "execute_result"
    }
   ],
   "source": [
    "# check the dataframe\n",
    "\n",
    "df.head()"
   ]
  },
  {
   "cell_type": "code",
   "execution_count": 4,
   "metadata": {},
   "outputs": [
    {
     "name": "stdout",
     "output_type": "stream",
     "text": [
      "<class 'pandas.core.frame.DataFrame'>\n",
      "RangeIndex: 3134 entries, 0 to 3133\n",
      "Data columns (total 6 columns):\n",
      " #   Column         Non-Null Count  Dtype  \n",
      "---  ------         --------------  -----  \n",
      " 0   image_path     3134 non-null   object \n",
      " 1   tags           3134 non-null   object \n",
      " 2   uuid           3134 non-null   object \n",
      " 3   length         3134 non-null   float64\n",
      " 4   price_length   3134 non-null   int64  \n",
      " 5   cleaned_price  3134 non-null   float64\n",
      "dtypes: float64(2), int64(1), object(3)\n",
      "memory usage: 147.0+ KB\n"
     ]
    }
   ],
   "source": [
    "# check for nulls\n",
    "\n",
    "df.info()"
   ]
  },
  {
   "cell_type": "markdown",
   "metadata": {},
   "source": [
    "# Prepare tags for NLP"
   ]
  },
  {
   "cell_type": "code",
   "execution_count": null,
   "metadata": {},
   "outputs": [
    {
     "name": "stdout",
     "output_type": "stream",
     "text": [
      "Collecting en-core-web-sm==3.8.0\n",
      "  Downloading https://github.com/explosion/spacy-models/releases/download/en_core_web_sm-3.8.0/en_core_web_sm-3.8.0-py3-none-any.whl (12.8 MB)\n",
      "\u001b[2K     \u001b[38;2;114;156;31m━━━━━━━━━━━━━━━━━━━━━━━━━━━━━━━━━━━━━━━━\u001b[0m \u001b[32m12.8/12.8 MB\u001b[0m \u001b[31m10.8 MB/s\u001b[0m eta \u001b[36m0:00:00\u001b[0m31m10.7 MB/s\u001b[0m eta \u001b[36m0:00:01\u001b[0m\n",
      "\u001b[?25hInstalling collected packages: en-core-web-sm\n",
      "Successfully installed en-core-web-sm-3.8.0\n",
      "\u001b[38;5;2m✔ Download and installation successful\u001b[0m\n",
      "You can now load the package via spacy.load('en_core_web_sm')\n",
      "\u001b[38;5;3m⚠ Restart to reload dependencies\u001b[0m\n",
      "If you are in a Jupyter or Colab notebook, you may need to restart Python in\n",
      "order to load all the package's dependencies. You can do this by selecting the\n",
      "'Restart kernel' or 'Restart runtime' option.\n"
     ]
    }
   ],
   "source": [
    "#Import spacy\n",
    "import spacy \n",
    "spacy.cli.download(\"en_core_web_sm\")"
   ]
  },
  {
   "cell_type": "code",
   "execution_count": 21,
   "metadata": {},
   "outputs": [],
   "source": [
    "nlp = spacy.load(\"en_core_web_sm\")"
   ]
  },
  {
   "cell_type": "code",
   "execution_count": 28,
   "metadata": {},
   "outputs": [],
   "source": [
    "doc = nlp(df['tags'][1])\n",
    "\n",
    "tokens = [token.text.lower() for token in doc if token.is_alpha]"
   ]
  },
  {
   "cell_type": "code",
   "execution_count": 41,
   "metadata": {},
   "outputs": [],
   "source": [
    "#Create a function\n",
    "def tokenizer(row):\n",
    "  print(row)\n",
    "  if isinstance(row['tags'], list):\n",
    "    return [token.text.lower() for token in row['tags'] if token.is_alpha]\n",
    "  else:\n",
    "    doc = nlp(row['tags'])\n",
    "    return [token.text.lower() for token in doc if token.is_alpha] "
   ]
  },
  {
   "cell_type": "code",
   "execution_count": null,
   "metadata": {},
   "outputs": [],
   "source": []
  },
  {
   "cell_type": "code",
   "execution_count": null,
   "metadata": {},
   "outputs": [],
   "source": []
  }
 ],
 "metadata": {
  "kernelspec": {
   "display_name": "pytorch-1",
   "language": "python",
   "name": "python3"
  },
  "language_info": {
   "codemirror_mode": {
    "name": "ipython",
    "version": 3
   },
   "file_extension": ".py",
   "mimetype": "text/x-python",
   "name": "python",
   "nbconvert_exporter": "python",
   "pygments_lexer": "ipython3",
   "version": "3.11.12"
  }
 },
 "nbformat": 4,
 "nbformat_minor": 2
}
