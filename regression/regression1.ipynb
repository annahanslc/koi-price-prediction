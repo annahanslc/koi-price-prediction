{
 "cells": [
  {
   "cell_type": "markdown",
   "metadata": {},
   "source": [
    "# Price Regression with Image Only"
   ]
  },
  {
   "cell_type": "code",
   "execution_count": 1,
   "metadata": {},
   "outputs": [
    {
     "name": "stderr",
     "output_type": "stream",
     "text": [
      "/Users/annahan/miniforge3/envs/pytorch-1/lib/python3.11/site-packages/torchvision/io/image.py:14: UserWarning: Failed to load image Python extension: 'dlopen(/Users/annahan/miniforge3/envs/pytorch-1/lib/python3.11/site-packages/torchvision/image.so, 0x0006): Library not loaded: @rpath/libjpeg.9.dylib\n",
      "  Referenced from: <EB3FF92A-5EB1-3EE8-AF8B-5923C1265422> /Users/annahan/miniforge3/envs/pytorch-1/lib/python3.11/site-packages/torchvision/image.so\n",
      "  Reason: tried: '/Users/annahan/miniforge3/envs/pytorch-1/lib/python3.11/site-packages/torchvision/../../../libjpeg.9.dylib' (no such file), '/Users/annahan/miniforge3/envs/pytorch-1/lib/python3.11/site-packages/torchvision/../../../libjpeg.9.dylib' (no such file), '/Users/annahan/miniforge3/envs/pytorch-1/lib/python3.11/lib-dynload/../../libjpeg.9.dylib' (no such file), '/Users/annahan/miniforge3/envs/pytorch-1/bin/../lib/libjpeg.9.dylib' (no such file)'If you don't plan on using image functionality from `torchvision.io`, you can ignore this warning. Otherwise, there might be something wrong with your environment. Did you have `libjpeg` or `libpng` installed before building `torchvision` from source?\n",
      "  warn(\n"
     ]
    }
   ],
   "source": [
    "from ir_torch import ImageRegressionTorch"
   ]
  },
  {
   "cell_type": "code",
   "execution_count": 2,
   "metadata": {},
   "outputs": [
    {
     "name": "stderr",
     "output_type": "stream",
     "text": [
      "/Users/annahan/miniforge3/envs/pytorch-1/lib/python3.11/site-packages/torchvision/transforms/v2/_deprecated.py:42: UserWarning: The transform `ToTensor()` is deprecated and will be removed in a future release. Instead, please use `v2.Compose([v2.ToImage(), v2.ToDtype(torch.float32, scale=True)])`.Output is equivalent up to float precision.\n",
      "  warnings.warn(\n",
      "/Users/annahan/miniforge3/envs/pytorch-1/lib/python3.11/site-packages/torch/optim/lr_scheduler.py:62: UserWarning: The verbose parameter is deprecated. Please use get_last_lr() to access the learning rate.\n",
      "  warnings.warn(\n"
     ]
    }
   ],
   "source": [
    "# Instantiate IRTorch\n",
    "\n",
    "irtorch = ImageRegressionTorch(\n",
    "  filepath='../0_main_dataset/data/df_5labels.json',\n",
    "  img_dir='../pictures/',\n",
    "  image_col='image_path',\n",
    "  target_col='cleaned_price',\n",
    "  testval_size=0.3,\n",
    "  val_size=0.5,\n",
    "  num_epochs=100,\n",
    "  )"
   ]
  },
  {
   "cell_type": "code",
   "execution_count": 3,
   "metadata": {},
   "outputs": [
    {
     "data": {
      "text/html": [
       "<div>\n",
       "<style scoped>\n",
       "    .dataframe tbody tr th:only-of-type {\n",
       "        vertical-align: middle;\n",
       "    }\n",
       "\n",
       "    .dataframe tbody tr th {\n",
       "        vertical-align: top;\n",
       "    }\n",
       "\n",
       "    .dataframe thead th {\n",
       "        text-align: right;\n",
       "    }\n",
       "</style>\n",
       "<table border=\"1\" class=\"dataframe\">\n",
       "  <thead>\n",
       "    <tr style=\"text-align: right;\">\n",
       "      <th></th>\n",
       "      <th>image_path</th>\n",
       "      <th>tags</th>\n",
       "      <th>uuid</th>\n",
       "      <th>length</th>\n",
       "      <th>price_length</th>\n",
       "      <th>cleaned_price</th>\n",
       "      <th>multi_label</th>\n",
       "      <th>not_empty</th>\n",
       "    </tr>\n",
       "  </thead>\n",
       "  <tbody>\n",
       "    <tr>\n",
       "      <th>0</th>\n",
       "      <td>grandkoi_data/12a49e_High Quality Gin Rin Show...</td>\n",
       "      <td>[Gin, Rin, Showa]</td>\n",
       "      <td>12a49e</td>\n",
       "      <td>32.0</td>\n",
       "      <td>10</td>\n",
       "      <td>34999.0</td>\n",
       "      <td>[Gin, Rin, Showa]</td>\n",
       "      <td>True</td>\n",
       "    </tr>\n",
       "    <tr>\n",
       "      <th>1</th>\n",
       "      <td>grandkoi_data/9ac3a8_High Quality Gin Rin show...</td>\n",
       "      <td>[Gin, Rin, showa]</td>\n",
       "      <td>9ac3a8</td>\n",
       "      <td>32.0</td>\n",
       "      <td>10</td>\n",
       "      <td>34999.0</td>\n",
       "      <td>[Gin, Rin, showa]</td>\n",
       "      <td>True</td>\n",
       "    </tr>\n",
       "    <tr>\n",
       "      <th>2</th>\n",
       "      <td>grandkoi_data/66c804_Gin Rin Karashigoi.jpeg</td>\n",
       "      <td>[Gin, Rin, Karashigoi]</td>\n",
       "      <td>66c804</td>\n",
       "      <td>28.0</td>\n",
       "      <td>9</td>\n",
       "      <td>6999.0</td>\n",
       "      <td>[Gin, Rin]</td>\n",
       "      <td>True</td>\n",
       "    </tr>\n",
       "    <tr>\n",
       "      <th>3</th>\n",
       "      <td>grandkoi_data/34353c_Gin Rin Benigoi.jpeg</td>\n",
       "      <td>[Gin, Rin, Benigoi]</td>\n",
       "      <td>34353c</td>\n",
       "      <td>25.0</td>\n",
       "      <td>9</td>\n",
       "      <td>4999.0</td>\n",
       "      <td>[Gin, Rin]</td>\n",
       "      <td>True</td>\n",
       "    </tr>\n",
       "    <tr>\n",
       "      <th>4</th>\n",
       "      <td>grandkoi_data/b1c670_Tancho Sanke.jpeg</td>\n",
       "      <td>[Tancho, Sanke]</td>\n",
       "      <td>b1c670</td>\n",
       "      <td>22.0</td>\n",
       "      <td>9</td>\n",
       "      <td>3499.0</td>\n",
       "      <td>[Tancho, Sanke]</td>\n",
       "      <td>True</td>\n",
       "    </tr>\n",
       "    <tr>\n",
       "      <th>...</th>\n",
       "      <td>...</td>\n",
       "      <td>...</td>\n",
       "      <td>...</td>\n",
       "      <td>...</td>\n",
       "      <td>...</td>\n",
       "      <td>...</td>\n",
       "      <td>...</td>\n",
       "      <td>...</td>\n",
       "    </tr>\n",
       "    <tr>\n",
       "      <th>854</th>\n",
       "      <td>sacramentokoi_data/83d8dc_Tancho_Ochiba_14″_–_...</td>\n",
       "      <td>[Tancho, Ochiba]</td>\n",
       "      <td>83d8dc</td>\n",
       "      <td>14.0</td>\n",
       "      <td>7</td>\n",
       "      <td>375.0</td>\n",
       "      <td>[Tancho]</td>\n",
       "      <td>True</td>\n",
       "    </tr>\n",
       "    <tr>\n",
       "      <th>855</th>\n",
       "      <td>sacramentokoi_data/0e4681_Tancho_Sakura_Ogon_2...</td>\n",
       "      <td>[Tancho, Sakura, Ogon]</td>\n",
       "      <td>0e4681</td>\n",
       "      <td>20.0</td>\n",
       "      <td>7</td>\n",
       "      <td>950.0</td>\n",
       "      <td>[Tancho]</td>\n",
       "      <td>True</td>\n",
       "    </tr>\n",
       "    <tr>\n",
       "      <th>856</th>\n",
       "      <td>sacramentokoi_data/84af0c_Tancho_Sakura_Ogon_2...</td>\n",
       "      <td>[Tancho, Sakura, Ogon]</td>\n",
       "      <td>84af0c</td>\n",
       "      <td>22.0</td>\n",
       "      <td>9</td>\n",
       "      <td>2100.0</td>\n",
       "      <td>[Tancho]</td>\n",
       "      <td>True</td>\n",
       "    </tr>\n",
       "    <tr>\n",
       "      <th>857</th>\n",
       "      <td>sacramentokoi_data/10e266_Tancho_Showa_15″_–_2...</td>\n",
       "      <td>[Tancho, Showa]</td>\n",
       "      <td>10e266</td>\n",
       "      <td>15.0</td>\n",
       "      <td>7</td>\n",
       "      <td>375.0</td>\n",
       "      <td>[Tancho, Showa]</td>\n",
       "      <td>True</td>\n",
       "    </tr>\n",
       "    <tr>\n",
       "      <th>858</th>\n",
       "      <td>sacramentokoi_data/7cefa7_Tancho_Showa_17″_–_2...</td>\n",
       "      <td>[Tancho, Showa]</td>\n",
       "      <td>7cefa7</td>\n",
       "      <td>17.0</td>\n",
       "      <td>7</td>\n",
       "      <td>450.0</td>\n",
       "      <td>[Tancho, Showa]</td>\n",
       "      <td>True</td>\n",
       "    </tr>\n",
       "  </tbody>\n",
       "</table>\n",
       "<p>859 rows × 8 columns</p>\n",
       "</div>"
      ],
      "text/plain": [
       "                                            image_path  \\\n",
       "0    grandkoi_data/12a49e_High Quality Gin Rin Show...   \n",
       "1    grandkoi_data/9ac3a8_High Quality Gin Rin show...   \n",
       "2         grandkoi_data/66c804_Gin Rin Karashigoi.jpeg   \n",
       "3            grandkoi_data/34353c_Gin Rin Benigoi.jpeg   \n",
       "4               grandkoi_data/b1c670_Tancho Sanke.jpeg   \n",
       "..                                                 ...   \n",
       "854  sacramentokoi_data/83d8dc_Tancho_Ochiba_14″_–_...   \n",
       "855  sacramentokoi_data/0e4681_Tancho_Sakura_Ogon_2...   \n",
       "856  sacramentokoi_data/84af0c_Tancho_Sakura_Ogon_2...   \n",
       "857  sacramentokoi_data/10e266_Tancho_Showa_15″_–_2...   \n",
       "858  sacramentokoi_data/7cefa7_Tancho_Showa_17″_–_2...   \n",
       "\n",
       "                       tags    uuid  length  price_length  cleaned_price  \\\n",
       "0         [Gin, Rin, Showa]  12a49e    32.0            10        34999.0   \n",
       "1         [Gin, Rin, showa]  9ac3a8    32.0            10        34999.0   \n",
       "2    [Gin, Rin, Karashigoi]  66c804    28.0             9         6999.0   \n",
       "3       [Gin, Rin, Benigoi]  34353c    25.0             9         4999.0   \n",
       "4           [Tancho, Sanke]  b1c670    22.0             9         3499.0   \n",
       "..                      ...     ...     ...           ...            ...   \n",
       "854        [Tancho, Ochiba]  83d8dc    14.0             7          375.0   \n",
       "855  [Tancho, Sakura, Ogon]  0e4681    20.0             7          950.0   \n",
       "856  [Tancho, Sakura, Ogon]  84af0c    22.0             9         2100.0   \n",
       "857         [Tancho, Showa]  10e266    15.0             7          375.0   \n",
       "858         [Tancho, Showa]  7cefa7    17.0             7          450.0   \n",
       "\n",
       "           multi_label  not_empty  \n",
       "0    [Gin, Rin, Showa]       True  \n",
       "1    [Gin, Rin, showa]       True  \n",
       "2           [Gin, Rin]       True  \n",
       "3           [Gin, Rin]       True  \n",
       "4      [Tancho, Sanke]       True  \n",
       "..                 ...        ...  \n",
       "854           [Tancho]       True  \n",
       "855           [Tancho]       True  \n",
       "856           [Tancho]       True  \n",
       "857    [Tancho, Showa]       True  \n",
       "858    [Tancho, Showa]       True  \n",
       "\n",
       "[859 rows x 8 columns]"
      ]
     },
     "execution_count": 3,
     "metadata": {},
     "output_type": "execute_result"
    }
   ],
   "source": [
    "# Load data\n",
    "irtorch.df"
   ]
  },
  {
   "cell_type": "code",
   "execution_count": 4,
   "metadata": {},
   "outputs": [
    {
     "name": "stdout",
     "output_type": "stream",
     "text": [
      "<class 'torch.Tensor'> torch.Size([32, 3, 224, 224])\n",
      "<class 'torch.Tensor'> torch.Size([32])\n",
      "<class 'torch.Tensor'> torch.Size([32, 3, 224, 224])\n",
      "<class 'torch.Tensor'> torch.Size([32])\n",
      "<class 'torch.Tensor'> torch.Size([32, 3, 224, 224])\n",
      "<class 'torch.Tensor'> torch.Size([32])\n"
     ]
    }
   ],
   "source": [
    "# Check the tensors\n",
    "irtorch.tensor_checker()"
   ]
  },
  {
   "cell_type": "code",
   "execution_count": 5,
   "metadata": {},
   "outputs": [
    {
     "name": "stderr",
     "output_type": "stream",
     "text": [
      "100%|██████████| 19/19 [00:05<00:00,  3.43it/s]\n"
     ]
    },
    {
     "name": "stdout",
     "output_type": "stream",
     "text": [
      "Epoch 1/20 | Train Loss(MSE): 29337082.6842, Train RMSE: 5416.3717, Train MAE: 2320.4122 | Val Loss(MSE): 15470119.2750, Val RMSE: 3933.2073, Val MAE: 1666.9061 | LR: 0.010000\n"
     ]
    },
    {
     "name": "stderr",
     "output_type": "stream",
     "text": [
      "100%|██████████| 19/19 [00:05<00:00,  3.72it/s]\n"
     ]
    },
    {
     "name": "stdout",
     "output_type": "stream",
     "text": [
      "Epoch 2/20 | Train Loss(MSE): 28986969.5526, Train RMSE: 5383.9548, Train MAE: 2261.4142 | Val Loss(MSE): 15230784.8187, Val RMSE: 3902.6638, Val MAE: 1614.5529 | LR: 0.010000\n"
     ]
    },
    {
     "name": "stderr",
     "output_type": "stream",
     "text": [
      "100%|██████████| 19/19 [00:05<00:00,  3.72it/s]\n"
     ]
    },
    {
     "name": "stdout",
     "output_type": "stream",
     "text": [
      "Epoch 3/20 | Train Loss(MSE): 29696058.3158, Train RMSE: 5449.4090, Train MAE: 2258.0314 | Val Loss(MSE): 15011571.3438, Val RMSE: 3874.4769, Val MAE: 1576.2173 | LR: 0.010000\n"
     ]
    },
    {
     "name": "stderr",
     "output_type": "stream",
     "text": [
      "100%|██████████| 19/19 [00:05<00:00,  3.76it/s]\n"
     ]
    },
    {
     "name": "stdout",
     "output_type": "stream",
     "text": [
      "Epoch 4/20 | Train Loss(MSE): 28264723.7895, Train RMSE: 5316.4578, Train MAE: 2195.2491 | Val Loss(MSE): 14794208.2750, Val RMSE: 3846.3240, Val MAE: 1550.3138 | LR: 0.010000\n"
     ]
    },
    {
     "name": "stderr",
     "output_type": "stream",
     "text": [
      "100%|██████████| 19/19 [00:05<00:00,  3.73it/s]\n"
     ]
    },
    {
     "name": "stdout",
     "output_type": "stream",
     "text": [
      "Epoch 5/20 | Train Loss(MSE): 27880389.5658, Train RMSE: 5280.1884, Train MAE: 2170.9432 | Val Loss(MSE): 14612033.7031, Val RMSE: 3822.5690, Val MAE: 1537.7382 | LR: 0.010000\n"
     ]
    },
    {
     "name": "stderr",
     "output_type": "stream",
     "text": [
      "100%|██████████| 19/19 [00:05<00:00,  3.78it/s]\n"
     ]
    },
    {
     "name": "stdout",
     "output_type": "stream",
     "text": [
      "Epoch 6/20 | Train Loss(MSE): 27837332.8158, Train RMSE: 5276.1096, Train MAE: 2189.4191 | Val Loss(MSE): 14443156.5828, Val RMSE: 3800.4153, Val MAE: 1533.1346 | LR: 0.010000\n"
     ]
    },
    {
     "name": "stderr",
     "output_type": "stream",
     "text": [
      "100%|██████████| 19/19 [00:05<00:00,  3.76it/s]\n"
     ]
    },
    {
     "name": "stdout",
     "output_type": "stream",
     "text": [
      "Epoch 7/20 | Train Loss(MSE): 27380007.4211, Train RMSE: 5232.5909, Train MAE: 2185.3052 | Val Loss(MSE): 14275784.3984, Val RMSE: 3778.3309, Val MAE: 1532.0073 | LR: 0.010000\n"
     ]
    },
    {
     "name": "stderr",
     "output_type": "stream",
     "text": [
      "100%|██████████| 19/19 [00:05<00:00,  3.77it/s]\n"
     ]
    },
    {
     "name": "stdout",
     "output_type": "stream",
     "text": [
      "Epoch 8/20 | Train Loss(MSE): 27634356.3158, Train RMSE: 5256.8390, Train MAE: 2204.2277 | Val Loss(MSE): 14141888.7273, Val RMSE: 3760.5703, Val MAE: 1539.2929 | LR: 0.010000\n"
     ]
    },
    {
     "name": "stderr",
     "output_type": "stream",
     "text": [
      "100%|██████████| 19/19 [00:04<00:00,  3.80it/s]\n"
     ]
    },
    {
     "name": "stdout",
     "output_type": "stream",
     "text": [
      "Epoch 9/20 | Train Loss(MSE): 26878023.8947, Train RMSE: 5184.4020, Train MAE: 2197.3517 | Val Loss(MSE): 13989448.1367, Val RMSE: 3740.2471, Val MAE: 1546.9680 | LR: 0.010000\n"
     ]
    },
    {
     "name": "stderr",
     "output_type": "stream",
     "text": [
      "100%|██████████| 19/19 [00:05<00:00,  3.74it/s]\n"
     ]
    },
    {
     "name": "stdout",
     "output_type": "stream",
     "text": [
      "Epoch 10/20 | Train Loss(MSE): 26503388.0263, Train RMSE: 5148.1441, Train MAE: 2202.4644 | Val Loss(MSE): 13866985.2192, Val RMSE: 3723.8401, Val MAE: 1554.7738 | LR: 0.010000\n"
     ]
    },
    {
     "name": "stderr",
     "output_type": "stream",
     "text": [
      "100%|██████████| 19/19 [00:05<00:00,  3.78it/s]\n"
     ]
    },
    {
     "name": "stdout",
     "output_type": "stream",
     "text": [
      "Epoch 11/20 | Train Loss(MSE): 26261027.5132, Train RMSE: 5124.5514, Train MAE: 2219.1184 | Val Loss(MSE): 13767151.2505, Val RMSE: 3710.4112, Val MAE: 1573.2618 | LR: 0.010000\n"
     ]
    },
    {
     "name": "stderr",
     "output_type": "stream",
     "text": [
      "100%|██████████| 19/19 [00:05<00:00,  3.79it/s]\n"
     ]
    },
    {
     "name": "stdout",
     "output_type": "stream",
     "text": [
      "Epoch 12/20 | Train Loss(MSE): 26742661.9737, Train RMSE: 5171.3308, Train MAE: 2264.5213 | Val Loss(MSE): 13660960.6752, Val RMSE: 3696.0737, Val MAE: 1611.3151 | LR: 0.010000\n"
     ]
    },
    {
     "name": "stderr",
     "output_type": "stream",
     "text": [
      "100%|██████████| 19/19 [00:05<00:00,  3.69it/s]\n"
     ]
    },
    {
     "name": "stdout",
     "output_type": "stream",
     "text": [
      "Epoch 13/20 | Train Loss(MSE): 25973952.6447, Train RMSE: 5096.4647, Train MAE: 2261.8498 | Val Loss(MSE): 13582544.1348, Val RMSE: 3685.4503, Val MAE: 1645.8723 | LR: 0.010000\n"
     ]
    },
    {
     "name": "stderr",
     "output_type": "stream",
     "text": [
      "100%|██████████| 19/19 [00:05<00:00,  3.80it/s]\n"
     ]
    },
    {
     "name": "stdout",
     "output_type": "stream",
     "text": [
      "Epoch 14/20 | Train Loss(MSE): 26041726.3947, Train RMSE: 5103.1095, Train MAE: 2296.7678 | Val Loss(MSE): 13485063.2422, Val RMSE: 3672.2014, Val MAE: 1678.3675 | LR: 0.010000\n"
     ]
    },
    {
     "name": "stderr",
     "output_type": "stream",
     "text": [
      "100%|██████████| 19/19 [00:05<00:00,  3.78it/s]\n"
     ]
    },
    {
     "name": "stdout",
     "output_type": "stream",
     "text": [
      "Epoch 15/20 | Train Loss(MSE): 26057857.6579, Train RMSE: 5104.6898, Train MAE: 2328.6416 | Val Loss(MSE): 13418254.9922, Val RMSE: 3663.0936, Val MAE: 1712.3073 | LR: 0.010000\n"
     ]
    },
    {
     "name": "stderr",
     "output_type": "stream",
     "text": [
      "100%|██████████| 19/19 [00:05<00:00,  3.71it/s]\n"
     ]
    },
    {
     "name": "stdout",
     "output_type": "stream",
     "text": [
      "Epoch 16/20 | Train Loss(MSE): 25570588.0526, Train RMSE: 5056.7369, Train MAE: 2323.0518 | Val Loss(MSE): 13337764.2297, Val RMSE: 3652.0904, Val MAE: 1749.1522 | LR: 0.010000\n"
     ]
    },
    {
     "name": "stderr",
     "output_type": "stream",
     "text": [
      "100%|██████████| 19/19 [00:05<00:00,  3.77it/s]\n"
     ]
    },
    {
     "name": "stdout",
     "output_type": "stream",
     "text": [
      "Epoch 17/20 | Train Loss(MSE): 25309100.1053, Train RMSE: 5030.8151, Train MAE: 2339.8386 | Val Loss(MSE): 13289806.2375, Val RMSE: 3645.5187, Val MAE: 1787.9356 | LR: 0.010000\n"
     ]
    },
    {
     "name": "stderr",
     "output_type": "stream",
     "text": [
      "100%|██████████| 19/19 [00:05<00:00,  3.71it/s]\n"
     ]
    },
    {
     "name": "stdout",
     "output_type": "stream",
     "text": [
      "Epoch 18/20 | Train Loss(MSE): 25077607.5263, Train RMSE: 5007.7547, Train MAE: 2354.5330 | Val Loss(MSE): 13244467.0281, Val RMSE: 3639.2949, Val MAE: 1822.5429 | LR: 0.010000\n"
     ]
    },
    {
     "name": "stderr",
     "output_type": "stream",
     "text": [
      "100%|██████████| 19/19 [00:05<00:00,  3.79it/s]\n"
     ]
    },
    {
     "name": "stdout",
     "output_type": "stream",
     "text": [
      "Epoch 19/20 | Train Loss(MSE): 25213756.1053, Train RMSE: 5021.3301, Train MAE: 2390.3602 | Val Loss(MSE): 13205689.2375, Val RMSE: 3633.9633, Val MAE: 1846.6749 | LR: 0.010000\n"
     ]
    },
    {
     "name": "stderr",
     "output_type": "stream",
     "text": [
      "100%|██████████| 19/19 [00:05<00:00,  3.78it/s]\n"
     ]
    },
    {
     "name": "stdout",
     "output_type": "stream",
     "text": [
      "Epoch 20/20 | Train Loss(MSE): 25215406.6546, Train RMSE: 5021.4945, Train MAE: 2413.7681 | Val Loss(MSE): 13180964.1312, Val RMSE: 3630.5598, Val MAE: 1876.8122 | LR: 0.010000\n",
      "Start Training Time: 2025-06-05 20:37:18.194458, End Training Time: 2025-06-05 20:39:22.894456, Total Time: 0:02:04.699998\n"
     ]
    },
    {
     "data": {
      "image/png": "[encoded data removed]",
      "text/plain": [
       "<Figure size 1200x600 with 2 Axes>"
      ]
     },
     "metadata": {},
     "output_type": "display_data"
    }
   ],
   "source": [
    "# Train the model\n",
    "irtorch.train(num_epochs=20)"
   ]
  },
  {
   "cell_type": "markdown",
   "metadata": {},
   "source": [
    "- The RSME is still slowly improving, but MAE is overfitting. This means that the model is getting better at curbing the large errors, but at the expense of increasing the smaller errors.\n",
    "- The price outliers in the dataset are making it difficult for the model to predict across the board. \n",
    "- I will try removing the outliers and adding an upper limit dollar amount to model's range of predictions. "
   ]
  }
 ],
 "metadata": {
  "kernelspec": {
   "display_name": "pytorch-1",
   "language": "python",
   "name": "python3"
  },
  "language_info": {
   "codemirror_mode": {
    "name": "ipython",
    "version": 3
   },
   "file_extension": ".py",
   "mimetype": "text/x-python",
   "name": "python",
   "nbconvert_exporter": "python",
   "pygments_lexer": "ipython3",
   "version": "3.11.12"
  }
 },
 "nbformat": 4,
 "nbformat_minor": 2
}
