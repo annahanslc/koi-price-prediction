{
 "cells": [
  {
   "cell_type": "markdown",
   "id": "9ef962c4",
   "metadata": {},
   "source": [
    "# Regression with Outliers Removed"
   ]
  },
  {
   "cell_type": "code",
   "execution_count": 1,
   "id": "ad303558",
   "metadata": {},
   "outputs": [
    {
     "name": "stderr",
     "output_type": "stream",
     "text": [
      "/Users/annahan/miniforge3/envs/pytorch-1/lib/python3.11/site-packages/torchvision/io/image.py:14: UserWarning: Failed to load image Python extension: 'dlopen(/Users/annahan/miniforge3/envs/pytorch-1/lib/python3.11/site-packages/torchvision/image.so, 0x0006): Library not loaded: @rpath/libjpeg.9.dylib\n",
      "  Referenced from: <EB3FF92A-5EB1-3EE8-AF8B-5923C1265422> /Users/annahan/miniforge3/envs/pytorch-1/lib/python3.11/site-packages/torchvision/image.so\n",
      "  Reason: tried: '/Users/annahan/miniforge3/envs/pytorch-1/lib/python3.11/site-packages/torchvision/../../../libjpeg.9.dylib' (no such file), '/Users/annahan/miniforge3/envs/pytorch-1/lib/python3.11/site-packages/torchvision/../../../libjpeg.9.dylib' (no such file), '/Users/annahan/miniforge3/envs/pytorch-1/lib/python3.11/lib-dynload/../../libjpeg.9.dylib' (no such file), '/Users/annahan/miniforge3/envs/pytorch-1/bin/../lib/libjpeg.9.dylib' (no such file)'If you don't plan on using image functionality from `torchvision.io`, you can ignore this warning. Otherwise, there might be something wrong with your environment. Did you have `libjpeg` or `libpng` installed before building `torchvision` from source?\n",
      "  warn(\n"
     ]
    }
   ],
   "source": [
    "from ir_torch import ImageRegressionTorch\n",
    "\n",
    "import pandas as pd"
   ]
  },
  {
   "cell_type": "code",
   "execution_count": null,
   "id": "d1494034",
   "metadata": {},
   "outputs": [],
   "source": []
  }
 ],
 "metadata": {
  "kernelspec": {
   "display_name": "pytorch-1",
   "language": "python",
   "name": "python3"
  },
  "language_info": {
   "codemirror_mode": {
    "name": "ipython",
    "version": 3
   },
   "file_extension": ".py",
   "mimetype": "text/x-python",
   "name": "python",
   "nbconvert_exporter": "python",
   "pygments_lexer": "ipython3",
   "version": "3.11.12"
  }
 },
 "nbformat": 4,
 "nbformat_minor": 5
}
