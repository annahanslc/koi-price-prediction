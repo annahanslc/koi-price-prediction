{
 "cells": [
  {
   "cell_type": "markdown",
   "metadata": {},
   "source": [
    "# Obtaining Data from GC Koi"
   ]
  },
  {
   "cell_type": "code",
   "execution_count": 1,
   "metadata": {},
   "outputs": [],
   "source": [
    "# Imports\n",
    "\n",
    "from bs4 import BeautifulSoup\n",
    "import requests\n",
    "import pandas as pd\n",
    "import os\n",
    "import uuid\n",
    "import re\n",
    "from html import unescape"
   ]
  },
  {
   "cell_type": "code",
   "execution_count": 2,
   "metadata": {},
   "outputs": [],
   "source": [
    "# # 250 is the maximum Shopify allows per request\n",
    "# API_URL = \"https://gckoi.com/collections/koi/products.json?limit=250\"\n",
    "\n",
    "# resp = requests.get(API_URL)\n",
    "# resp.raise_for_status()\n",
    "# data = resp.json()\n",
    "\n",
    "# for prod in data[\"products\"]:\n",
    "#     title = prod[\"title\"]\n",
    "#     price = prod[\"variants\"][0][\"price\"]\n",
    "#     url   = prod[\"handle\"]\n",
    "#     print(f\"{title} – ${price}  →  https://gckoi.com/products/{url}\")"
   ]
  },
  {
   "cell_type": "code",
   "execution_count": 3,
   "metadata": {},
   "outputs": [],
   "source": [
    "# Define the website\n",
    "\n",
    "BASE_URL = 'https://gckoi.com/collections/koi'\n",
    "START_URL = 'https://gckoi.com/collections/koi?page={}'\n",
    "website = requests.get(BASE_URL)\n",
    "\n",
    "# Define the output directory\n",
    "\n",
    "OUTPUT_DIR = 'gckoi_data'\n",
    "os.makedirs(OUTPUT_DIR, exist_ok=True)"
   ]
  },
  {
   "cell_type": "code",
   "execution_count": 4,
   "metadata": {},
   "outputs": [
    {
     "data": {
      "text/plain": [
       "200"
      ]
     },
     "execution_count": 4,
     "metadata": {},
     "output_type": "execute_result"
    }
   ],
   "source": [
    "# Check status\n",
    "\n",
    "website.status_code"
   ]
  },
  {
   "cell_type": "code",
   "execution_count": 5,
   "metadata": {},
   "outputs": [],
   "source": [
    "# Get the object\n",
    "\n",
    "soup = BeautifulSoup(website.text, \"html.parser\")"
   ]
  },
  {
   "cell_type": "code",
   "execution_count": 6,
   "metadata": {},
   "outputs": [],
   "source": [
    "# soup"
   ]
  },
  {
   "cell_type": "markdown",
   "metadata": {},
   "source": [
    "##### What the html look like (double click to see)"
   ]
  },
  {
   "cell_type": "code",
   "execution_count": 7,
   "metadata": {},
   "outputs": [],
   "source": [
    "# product = soup.select(\"article.card.epic-product-card\")"
   ]
  },
  {
   "cell_type": "code",
   "execution_count": 8,
   "metadata": {},
   "outputs": [],
   "source": [
    "# product"
   ]
  },
  {
   "cell_type": "code",
   "execution_count": 9,
   "metadata": {},
   "outputs": [],
   "source": [
    "# ——— CONFIG ———\n",
    "BASE_URL    = \"https://gckoi.com\"\n",
    "COLLECT_URL = BASE_URL + \"/collections/koi/products.json\"\n",
    "PER_PAGE    = 250        # Shopify max per request\n",
    "\n",
    "os.makedirs(OUTPUT_DIR, exist_ok=True)\n",
    "\n",
    "data_collected = {}\n",
    "\n",
    "def scrape_page(page_num):\n",
    "    params = {\n",
    "        \"limit\": PER_PAGE,\n",
    "        \"page\":  page_num\n",
    "    }\n",
    "    resp = requests.get(COLLECT_URL, params=params)\n",
    "    resp.raise_for_status()\n",
    "\n",
    "    payload = resp.json()\n",
    "    products = payload.get(\"products\", [])\n",
    "    if not products:\n",
    "        return False\n",
    "\n",
    "    for prod in products:\n",
    "        # 1) Basic fields\n",
    "        sku      = str(prod[\"id\"])\n",
    "        title    = prod[\"title\"].strip()\n",
    "        handle   = prod[\"handle\"]\n",
    "        link     = f\"{BASE_URL}/products/{handle}\"\n",
    "        price    = prod[\"variants\"][0][\"price\"]\n",
    "        in_stock = prod[\"variants\"][0][\"available\"]\n",
    "\n",
    "        # 2) Description (strip HTML tags)\n",
    "        raw_html    = prod.get(\"body_html\", \"\")\n",
    "        description = unescape(re.sub(r'<[^>]+>', '', raw_html)).strip()\n",
    "\n",
    "        # 3) Category / tags\n",
    "        #    Shopify product_type is often the “category”; you can also include tags\n",
    "        category = prod.get(\"product_type\", \"\")\n",
    "        tags     = prod.get(\"tags\", \"\") if prod.get(\"tags\") else []\n",
    "\n",
    "        # 4) Main image URL\n",
    "        images = prod.get(\"images\", [])\n",
    "        if images:\n",
    "            img_url = images[0][\"src\"]\n",
    "        else:\n",
    "            img_url = None\n",
    "\n",
    "        # 5) Download image\n",
    "        if img_url:\n",
    "            ext = os.path.splitext(img_url)[1].split(\"?\")[0] or \".jpg\"\n",
    "            unit_id = uuid.uuid4().hex[:7]\n",
    "            safe_title = re.sub(r'[\\\\/*?:\"<>|]', \"\", title)\n",
    "            safe_title = safe_title.replace(\" \", \"_\").replace(\"–\", \"-\")\n",
    "            filename = f\"{unit_id}_{safe_title}{ext}\"\n",
    "            filepath = os.path.join(OUTPUT_DIR, filename)\n",
    "\n",
    "            r_img = requests.get(img_url, stream=True)\n",
    "            r_img.raise_for_status()\n",
    "            with open(filepath, \"wb\") as f:\n",
    "                for chunk in r_img.iter_content(8192):\n",
    "                    if chunk:\n",
    "                        f.write(chunk)\n",
    "        else:\n",
    "            filepath = None\n",
    "\n",
    "        # 6) Store\n",
    "        data_collected[unit_id] = {\n",
    "            \"sku\":         sku,\n",
    "            \"title\":       title,\n",
    "            \"price\":       price,\n",
    "            \"in_stock\":    in_stock,\n",
    "            \"link\":        link,\n",
    "            \"description\": description,\n",
    "            \"category\":    category,\n",
    "            \"tags\":        tags,\n",
    "            \"image_url\":   img_url,\n",
    "            \"image_path\":  filepath\n",
    "        }\n",
    "\n",
    "    return True"
   ]
  },
  {
   "cell_type": "code",
   "execution_count": 10,
   "metadata": {},
   "outputs": [
    {
     "name": "stdout",
     "output_type": "stream",
     "text": [
      "Scraping page 1…\n",
      "Scraping page 2…\n",
      "Scraping page 3…\n",
      "Done! Collected 408 products.\n"
     ]
    }
   ],
   "source": [
    "if __name__ == \"__main__\":\n",
    "    page = 1\n",
    "    while True:\n",
    "        print(f\"Scraping page {page}…\")\n",
    "        more = scrape_page(page)\n",
    "        if not more:\n",
    "            break\n",
    "        page += 1\n",
    "\n",
    "    # At the end, `data_collected` holds everything\n",
    "    print(f\"Done! Collected {len(data_collected)} products.\")"
   ]
  },
  {
   "cell_type": "code",
   "execution_count": 11,
   "metadata": {},
   "outputs": [],
   "source": [
    "df = pd.DataFrame(data_collected)"
   ]
  },
  {
   "cell_type": "code",
   "execution_count": 12,
   "metadata": {},
   "outputs": [],
   "source": [
    "df = df.T"
   ]
  },
  {
   "cell_type": "code",
   "execution_count": 13,
   "metadata": {},
   "outputs": [
    {
     "data": {
      "text/html": [
       "<div>\n",
       "<style scoped>\n",
       "    .dataframe tbody tr th:only-of-type {\n",
       "        vertical-align: middle;\n",
       "    }\n",
       "\n",
       "    .dataframe tbody tr th {\n",
       "        vertical-align: top;\n",
       "    }\n",
       "\n",
       "    .dataframe thead th {\n",
       "        text-align: right;\n",
       "    }\n",
       "</style>\n",
       "<table border=\"1\" class=\"dataframe\">\n",
       "  <thead>\n",
       "    <tr style=\"text-align: right;\">\n",
       "      <th></th>\n",
       "      <th>sku</th>\n",
       "      <th>title</th>\n",
       "      <th>price</th>\n",
       "      <th>in_stock</th>\n",
       "      <th>link</th>\n",
       "      <th>description</th>\n",
       "      <th>category</th>\n",
       "      <th>tags</th>\n",
       "      <th>image_url</th>\n",
       "      <th>image_path</th>\n",
       "    </tr>\n",
       "  </thead>\n",
       "  <tbody>\n",
       "    <tr>\n",
       "      <th>9718985</th>\n",
       "      <td>8428729860265</td>\n",
       "      <td>GENJIRO GOSANKE 7\"-9\"</td>\n",
       "      <td>95.00</td>\n",
       "      <td>True</td>\n",
       "      <td>https://gckoi.com/products/genjiro-gosanke-7-9</td>\n",
       "      <td>Breeder: Genjiro Kohaku, Sanke and ShowaSize: ...</td>\n",
       "      <td></td>\n",
       "      <td>[genjiro, kohaku, koi, sanke, showa, tosai]</td>\n",
       "      <td>https://cdn.shopify.com/s/files/1/0565/8830/45...</td>\n",
       "      <td>gckoi_data/9718985_GENJIRO_GOSANKE_7-9.jpg</td>\n",
       "    </tr>\n",
       "    <tr>\n",
       "      <th>d9a7dbc</th>\n",
       "      <td>7856409346217</td>\n",
       "      <td>HIGH QUALITY SAKAI BLOODLINE TANCHO KOHAKU 24”...</td>\n",
       "      <td>3500.00</td>\n",
       "      <td>True</td>\n",
       "      <td>https://gckoi.com/products/high-quality-sakai-...</td>\n",
       "      <td>Breeder: MarukyuSize: 3sai 24”Sex: female</td>\n",
       "      <td></td>\n",
       "      <td>[kohaku, koi, Marukyu, nisai]</td>\n",
       "      <td>https://cdn.shopify.com/s/files/1/0565/8830/45...</td>\n",
       "      <td>gckoi_data/d9a7dbc_HIGH_QUALITY_SAKAI_BLOODLIN...</td>\n",
       "    </tr>\n",
       "    <tr>\n",
       "      <th>00d04b3</th>\n",
       "      <td>8291399860393</td>\n",
       "      <td>HIROI DOITSU SANKE-SHOWA-TANCHO OCHIBA 14\"-16\"</td>\n",
       "      <td>600.00</td>\n",
       "      <td>False</td>\n",
       "      <td>https://gckoi.com/products/hiroi-doitsu-sanke-...</td>\n",
       "      <td>*SHIP END OF NOVEMBER*Breeder: HiroiSex: 4 fem...</td>\n",
       "      <td>Koi</td>\n",
       "      <td>[fall 2024, HIROI, koi, nisai, ochiba, sanke, ...</td>\n",
       "      <td>https://cdn.shopify.com/s/files/1/0565/8830/45...</td>\n",
       "      <td>gckoi_data/00d04b3_HIROI_DOITSU_SANKE-SHOWA-TA...</td>\n",
       "    </tr>\n",
       "    <tr>\n",
       "      <th>564bc0a</th>\n",
       "      <td>8305083449513</td>\n",
       "      <td>IKARASHI MIX BOWL #1</td>\n",
       "      <td>600.00</td>\n",
       "      <td>False</td>\n",
       "      <td>https://gckoi.com/products/ikarashi-mix-bowl-1</td>\n",
       "      <td>*SHIP END OF NOVEMBER*Breeder: IkarashiSex: 5 ...</td>\n",
       "      <td></td>\n",
       "      <td>[Beni Kikokuryu, fall 2024, ikarashi, koi, KUJ...</td>\n",
       "      <td>https://cdn.shopify.com/s/files/1/0565/8830/45...</td>\n",
       "      <td>gckoi_data/564bc0a_IKARASHI_MIX_BOWL_#1.png</td>\n",
       "    </tr>\n",
       "    <tr>\n",
       "      <th>88ec869</th>\n",
       "      <td>7993174229161</td>\n",
       "      <td>ISA KOHAKU GUARANTEE FEMALE WITH CERTIFICATE 2...</td>\n",
       "      <td>2500.00</td>\n",
       "      <td>True</td>\n",
       "      <td>https://gckoi.com/products/isa-showa-grow-out-...</td>\n",
       "      <td>Breeder: Isa with certificateSize: 21.5\"Sex: f...</td>\n",
       "      <td></td>\n",
       "      <td>[isa, kohaku, koi, nisai]</td>\n",
       "      <td>https://cdn.shopify.com/s/files/1/0565/8830/45...</td>\n",
       "      <td>gckoi_data/88ec869_ISA_KOHAKU_GUARANTEE_FEMALE...</td>\n",
       "    </tr>\n",
       "    <tr>\n",
       "      <th>...</th>\n",
       "      <td>...</td>\n",
       "      <td>...</td>\n",
       "      <td>...</td>\n",
       "      <td>...</td>\n",
       "      <td>...</td>\n",
       "      <td>...</td>\n",
       "      <td>...</td>\n",
       "      <td>...</td>\n",
       "      <td>...</td>\n",
       "      <td>...</td>\n",
       "    </tr>\n",
       "    <tr>\n",
       "      <th>2fc5440</th>\n",
       "      <td>8479347048617</td>\n",
       "      <td>TORAZO KOHAKU JUMBO TOSAI 9\"-11\" WITH CERTIFIC...</td>\n",
       "      <td>400.00</td>\n",
       "      <td>False</td>\n",
       "      <td>https://gckoi.com/products/torazo-kohaku-jumbo...</td>\n",
       "      <td>Breeder: Torazo with certificate Sex: uncheckS...</td>\n",
       "      <td></td>\n",
       "      <td>[kohaku, koi, torazo, tosai]</td>\n",
       "      <td>https://cdn.shopify.com/s/files/1/0565/8830/45...</td>\n",
       "      <td>gckoi_data/2fc5440_TORAZO_KOHAKU_JUMBO_TOSAI_9...</td>\n",
       "    </tr>\n",
       "    <tr>\n",
       "      <th>7b86441</th>\n",
       "      <td>8479347081385</td>\n",
       "      <td>TORAZO KOHAKU JUMBO TOSAI 9\"-11\" WITH CERTIFIC...</td>\n",
       "      <td>400.00</td>\n",
       "      <td>False</td>\n",
       "      <td>https://gckoi.com/products/torazo-kohaku-jumbo...</td>\n",
       "      <td>Breeder: Torazo with certificate Sex: uncheckS...</td>\n",
       "      <td></td>\n",
       "      <td>[kohaku, koi, torazo, tosai]</td>\n",
       "      <td>https://cdn.shopify.com/s/files/1/0565/8830/45...</td>\n",
       "      <td>gckoi_data/7b86441_TORAZO_KOHAKU_JUMBO_TOSAI_9...</td>\n",
       "    </tr>\n",
       "    <tr>\n",
       "      <th>2e290d0</th>\n",
       "      <td>7864493572265</td>\n",
       "      <td>YAMAMATSU KOHAKU 17”-21” BOWL #1</td>\n",
       "      <td>450.00</td>\n",
       "      <td>False</td>\n",
       "      <td>https://gckoi.com/products/yamamatsu-sanke-17-...</td>\n",
       "      <td>Breeder: Yamamatsu Size: 2sai 17”-21\"Sex: uncheck</td>\n",
       "      <td></td>\n",
       "      <td>[fall 2024, kohaku, koi, nisai, Yamamatsu]</td>\n",
       "      <td>https://cdn.shopify.com/s/files/1/0565/8830/45...</td>\n",
       "      <td>gckoi_data/2e290d0_YAMAMATSU_KOHAKU_17”-21”_BO...</td>\n",
       "    </tr>\n",
       "    <tr>\n",
       "      <th>cd8689c</th>\n",
       "      <td>8307867680937</td>\n",
       "      <td>YAMAMATSU KOHAKU 18”-19” BOWL #2</td>\n",
       "      <td>450.00</td>\n",
       "      <td>False</td>\n",
       "      <td>https://gckoi.com/products/yamamatsu-kohaku-18...</td>\n",
       "      <td>Breeder: Yamamatsu Size: 2sai 18”-19\"Sex: uncheck</td>\n",
       "      <td></td>\n",
       "      <td>[fall 2024, kohaku, koi, nisai, Yamamatsu]</td>\n",
       "      <td>https://cdn.shopify.com/s/files/1/0565/8830/45...</td>\n",
       "      <td>gckoi_data/cd8689c_YAMAMATSU_KOHAKU_18”-19”_BO...</td>\n",
       "    </tr>\n",
       "    <tr>\n",
       "      <th>c4831bd</th>\n",
       "      <td>8307874234537</td>\n",
       "      <td>YAMAMATSU SANKE 17”-18”</td>\n",
       "      <td>500.00</td>\n",
       "      <td>False</td>\n",
       "      <td>https://gckoi.com/products/yamamatsu-sanke-17-18</td>\n",
       "      <td>Breeder: Yamamatsu Size: 2sai 17\"-18”Sex: uncheck</td>\n",
       "      <td></td>\n",
       "      <td>[fall 2024, koi, nisai, sanke, Yamamatsu]</td>\n",
       "      <td>https://cdn.shopify.com/s/files/1/0565/8830/45...</td>\n",
       "      <td>gckoi_data/c4831bd_YAMAMATSU_SANKE_17”-18”.png</td>\n",
       "    </tr>\n",
       "  </tbody>\n",
       "</table>\n",
       "<p>408 rows × 10 columns</p>\n",
       "</div>"
      ],
      "text/plain": [
       "                   sku                                              title  \\\n",
       "9718985  8428729860265                              GENJIRO GOSANKE 7\"-9\"   \n",
       "d9a7dbc  7856409346217  HIGH QUALITY SAKAI BLOODLINE TANCHO KOHAKU 24”...   \n",
       "00d04b3  8291399860393     HIROI DOITSU SANKE-SHOWA-TANCHO OCHIBA 14\"-16\"   \n",
       "564bc0a  8305083449513                               IKARASHI MIX BOWL #1   \n",
       "88ec869  7993174229161  ISA KOHAKU GUARANTEE FEMALE WITH CERTIFICATE 2...   \n",
       "...                ...                                                ...   \n",
       "2fc5440  8479347048617  TORAZO KOHAKU JUMBO TOSAI 9\"-11\" WITH CERTIFIC...   \n",
       "7b86441  8479347081385  TORAZO KOHAKU JUMBO TOSAI 9\"-11\" WITH CERTIFIC...   \n",
       "2e290d0  7864493572265                   YAMAMATSU KOHAKU 17”-21” BOWL #1   \n",
       "cd8689c  8307867680937                   YAMAMATSU KOHAKU 18”-19” BOWL #2   \n",
       "c4831bd  8307874234537                            YAMAMATSU SANKE 17”-18”   \n",
       "\n",
       "           price in_stock                                               link  \\\n",
       "9718985    95.00     True     https://gckoi.com/products/genjiro-gosanke-7-9   \n",
       "d9a7dbc  3500.00     True  https://gckoi.com/products/high-quality-sakai-...   \n",
       "00d04b3   600.00    False  https://gckoi.com/products/hiroi-doitsu-sanke-...   \n",
       "564bc0a   600.00    False     https://gckoi.com/products/ikarashi-mix-bowl-1   \n",
       "88ec869  2500.00     True  https://gckoi.com/products/isa-showa-grow-out-...   \n",
       "...          ...      ...                                                ...   \n",
       "2fc5440   400.00    False  https://gckoi.com/products/torazo-kohaku-jumbo...   \n",
       "7b86441   400.00    False  https://gckoi.com/products/torazo-kohaku-jumbo...   \n",
       "2e290d0   450.00    False  https://gckoi.com/products/yamamatsu-sanke-17-...   \n",
       "cd8689c   450.00    False  https://gckoi.com/products/yamamatsu-kohaku-18...   \n",
       "c4831bd   500.00    False   https://gckoi.com/products/yamamatsu-sanke-17-18   \n",
       "\n",
       "                                               description category  \\\n",
       "9718985  Breeder: Genjiro Kohaku, Sanke and ShowaSize: ...            \n",
       "d9a7dbc          Breeder: MarukyuSize: 3sai 24”Sex: female            \n",
       "00d04b3  *SHIP END OF NOVEMBER*Breeder: HiroiSex: 4 fem...      Koi   \n",
       "564bc0a  *SHIP END OF NOVEMBER*Breeder: IkarashiSex: 5 ...            \n",
       "88ec869  Breeder: Isa with certificateSize: 21.5\"Sex: f...            \n",
       "...                                                    ...      ...   \n",
       "2fc5440  Breeder: Torazo with certificate Sex: uncheckS...            \n",
       "7b86441  Breeder: Torazo with certificate Sex: uncheckS...            \n",
       "2e290d0  Breeder: Yamamatsu Size: 2sai 17”-21\"Sex: uncheck            \n",
       "cd8689c  Breeder: Yamamatsu Size: 2sai 18”-19\"Sex: uncheck            \n",
       "c4831bd  Breeder: Yamamatsu Size: 2sai 17\"-18”Sex: uncheck            \n",
       "\n",
       "                                                      tags  \\\n",
       "9718985        [genjiro, kohaku, koi, sanke, showa, tosai]   \n",
       "d9a7dbc                      [kohaku, koi, Marukyu, nisai]   \n",
       "00d04b3  [fall 2024, HIROI, koi, nisai, ochiba, sanke, ...   \n",
       "564bc0a  [Beni Kikokuryu, fall 2024, ikarashi, koi, KUJ...   \n",
       "88ec869                          [isa, kohaku, koi, nisai]   \n",
       "...                                                    ...   \n",
       "2fc5440                       [kohaku, koi, torazo, tosai]   \n",
       "7b86441                       [kohaku, koi, torazo, tosai]   \n",
       "2e290d0         [fall 2024, kohaku, koi, nisai, Yamamatsu]   \n",
       "cd8689c         [fall 2024, kohaku, koi, nisai, Yamamatsu]   \n",
       "c4831bd          [fall 2024, koi, nisai, sanke, Yamamatsu]   \n",
       "\n",
       "                                                 image_url  \\\n",
       "9718985  https://cdn.shopify.com/s/files/1/0565/8830/45...   \n",
       "d9a7dbc  https://cdn.shopify.com/s/files/1/0565/8830/45...   \n",
       "00d04b3  https://cdn.shopify.com/s/files/1/0565/8830/45...   \n",
       "564bc0a  https://cdn.shopify.com/s/files/1/0565/8830/45...   \n",
       "88ec869  https://cdn.shopify.com/s/files/1/0565/8830/45...   \n",
       "...                                                    ...   \n",
       "2fc5440  https://cdn.shopify.com/s/files/1/0565/8830/45...   \n",
       "7b86441  https://cdn.shopify.com/s/files/1/0565/8830/45...   \n",
       "2e290d0  https://cdn.shopify.com/s/files/1/0565/8830/45...   \n",
       "cd8689c  https://cdn.shopify.com/s/files/1/0565/8830/45...   \n",
       "c4831bd  https://cdn.shopify.com/s/files/1/0565/8830/45...   \n",
       "\n",
       "                                                image_path  \n",
       "9718985         gckoi_data/9718985_GENJIRO_GOSANKE_7-9.jpg  \n",
       "d9a7dbc  gckoi_data/d9a7dbc_HIGH_QUALITY_SAKAI_BLOODLIN...  \n",
       "00d04b3  gckoi_data/00d04b3_HIROI_DOITSU_SANKE-SHOWA-TA...  \n",
       "564bc0a        gckoi_data/564bc0a_IKARASHI_MIX_BOWL_#1.png  \n",
       "88ec869  gckoi_data/88ec869_ISA_KOHAKU_GUARANTEE_FEMALE...  \n",
       "...                                                    ...  \n",
       "2fc5440  gckoi_data/2fc5440_TORAZO_KOHAKU_JUMBO_TOSAI_9...  \n",
       "7b86441  gckoi_data/7b86441_TORAZO_KOHAKU_JUMBO_TOSAI_9...  \n",
       "2e290d0  gckoi_data/2e290d0_YAMAMATSU_KOHAKU_17”-21”_BO...  \n",
       "cd8689c  gckoi_data/cd8689c_YAMAMATSU_KOHAKU_18”-19”_BO...  \n",
       "c4831bd     gckoi_data/c4831bd_YAMAMATSU_SANKE_17”-18”.png  \n",
       "\n",
       "[408 rows x 10 columns]"
      ]
     },
     "execution_count": 13,
     "metadata": {},
     "output_type": "execute_result"
    }
   ],
   "source": [
    "df"
   ]
  },
  {
   "cell_type": "code",
   "execution_count": 15,
   "metadata": {},
   "outputs": [
    {
     "data": {
      "text/plain": [
       "159"
      ]
     },
     "execution_count": 15,
     "metadata": {},
     "output_type": "execute_result"
    }
   ],
   "source": [
    "df['in_stock'].sum()"
   ]
  },
  {
   "cell_type": "code",
   "execution_count": 16,
   "metadata": {},
   "outputs": [
    {
     "data": {
      "text/plain": [
       "np.int64(0)"
      ]
     },
     "execution_count": 16,
     "metadata": {},
     "output_type": "execute_result"
    }
   ],
   "source": [
    "df.duplicated(subset='image_url').sum()"
   ]
  },
  {
   "cell_type": "code",
   "execution_count": 17,
   "metadata": {},
   "outputs": [
    {
     "name": "stdout",
     "output_type": "stream",
     "text": [
      "<class 'pandas.core.frame.DataFrame'>\n",
      "Index: 408 entries, 9718985 to c4831bd\n",
      "Data columns (total 10 columns):\n",
      " #   Column       Non-Null Count  Dtype \n",
      "---  ------       --------------  ----- \n",
      " 0   sku          408 non-null    object\n",
      " 1   title        408 non-null    object\n",
      " 2   price        408 non-null    object\n",
      " 3   in_stock     408 non-null    object\n",
      " 4   link         408 non-null    object\n",
      " 5   description  408 non-null    object\n",
      " 6   category     408 non-null    object\n",
      " 7   tags         408 non-null    object\n",
      " 8   image_url    408 non-null    object\n",
      " 9   image_path   408 non-null    object\n",
      "dtypes: object(10)\n",
      "memory usage: 35.1+ KB\n"
     ]
    }
   ],
   "source": [
    "df.info()"
   ]
  },
  {
   "cell_type": "code",
   "execution_count": 18,
   "metadata": {},
   "outputs": [],
   "source": [
    "# df.to_csv('gckoi_data.csv', index=True)"
   ]
  },
  {
   "cell_type": "code",
   "execution_count": null,
   "metadata": {},
   "outputs": [],
   "source": []
  }
 ],
 "metadata": {
  "kernelspec": {
   "display_name": "Python 3",
   "language": "python",
   "name": "python3"
  },
  "language_info": {
   "codemirror_mode": {
    "name": "ipython",
    "version": 3
   },
   "file_extension": ".py",
   "mimetype": "text/x-python",
   "name": "python",
   "nbconvert_exporter": "python",
   "pygments_lexer": "ipython3",
   "version": "3.10.17"
  }
 },
 "nbformat": 4,
 "nbformat_minor": 2
}
